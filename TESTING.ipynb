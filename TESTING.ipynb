{
 "cells": [
  {
   "cell_type": "code",
   "execution_count": 132,
   "metadata": {},
   "outputs": [],
   "source": [
    "from sqlalchemy import create_engine\n",
    "from sqlalchemy.orm import declarative_base, Session\n",
    "from sqlalchemy import select, delete, update\n",
    "from sqlalchemy import Column, Integer, String, ForeignKey, Boolean, DateTime, func\n",
    "from sqlalchemy.orm import relationship"
   ]
  },
  {
   "cell_type": "code",
   "execution_count": 133,
   "metadata": {},
   "outputs": [],
   "source": [
    "engine = create_engine('postgresql:///euphoria', echo=True, future=True)\n",
    "# engine = create_engine('sqlite:///:memory:', echo=False, future=True)\n",
    "session = Session(engine, future=True)\n",
    "Base = declarative_base()"
   ]
  },
  {
   "cell_type": "code",
   "execution_count": 134,
   "metadata": {},
   "outputs": [],
   "source": [
    "class Box(Base):\n",
    "    __tablename__ = 'boxes'\n",
    "    id = Column(Integer, primary_key=True)\n",
    "    name = Column(String, nullable=False)\n",
    "    size = Column(String, nullable=False)\n",
    "    essential = Column(Boolean)\n",
    "    warm = Column(Boolean)\n",
    "    liquid = Column(Boolean)\n",
    "    items = relationship('Item', back_populates='box', cascade='all, delete')\n",
    "\n",
    "    def __repr__(self):\n",
    "        return f'Box(name={self.name!r}, size={self.size!r}, essential={self.essential!r}, warm={self.warm!r}, liquid={self.liquid!r})'\n",
    "\n",
    "\n",
    "class Item(Base):\n",
    "    __tablename__ = 'items'\n",
    "    id = Column(Integer, primary_key=True)\n",
    "    box_id = Column(Integer, ForeignKey('boxes.id'), nullable=False)\n",
    "    name = Column(String, nullable=False)\n",
    "    essential = Column(Boolean, nullable=False)\n",
    "    warm = Column(Boolean, nullable=False)\n",
    "    liquid = Column(Boolean, nullable=False)\n",
    "    box = relationship('Box', back_populates='items')\n",
    "\n",
    "    def __repr__(self):\n",
    "        return f'Item(box_id={self.box_id!r}, name={self.name!r}, essential={self.essential!r}, warm={self.warm!r}, liquid={self.liquid!r})'"
   ]
  },
  {
   "cell_type": "code",
   "execution_count": 135,
   "metadata": {},
   "outputs": [
    {
     "name": "stdout",
     "output_type": "stream",
     "text": [
      "2022-05-13 17:16:00,200 INFO sqlalchemy.engine.Engine select pg_catalog.version()\n",
      "2022-05-13 17:16:00,202 INFO sqlalchemy.engine.Engine [raw sql] {}\n",
      "2022-05-13 17:16:00,204 INFO sqlalchemy.engine.Engine select current_schema()\n",
      "2022-05-13 17:16:00,205 INFO sqlalchemy.engine.Engine [raw sql] {}\n",
      "2022-05-13 17:16:00,206 INFO sqlalchemy.engine.Engine show standard_conforming_strings\n",
      "2022-05-13 17:16:00,206 INFO sqlalchemy.engine.Engine [raw sql] {}\n",
      "2022-05-13 17:16:00,207 INFO sqlalchemy.engine.Engine BEGIN (implicit)\n",
      "2022-05-13 17:16:00,209 INFO sqlalchemy.engine.Engine select relname from pg_class c join pg_namespace n on n.oid=c.relnamespace where pg_catalog.pg_table_is_visible(c.oid) and relname=%(name)s\n",
      "2022-05-13 17:16:00,210 INFO sqlalchemy.engine.Engine [generated in 0.00103s] {'name': 'boxes'}\n",
      "2022-05-13 17:16:00,217 INFO sqlalchemy.engine.Engine select relname from pg_class c join pg_namespace n on n.oid=c.relnamespace where pg_catalog.pg_table_is_visible(c.oid) and relname=%(name)s\n",
      "2022-05-13 17:16:00,218 INFO sqlalchemy.engine.Engine [cached since 0.00938s ago] {'name': 'items'}\n",
      "2022-05-13 17:16:00,221 INFO sqlalchemy.engine.Engine \n",
      "CREATE TABLE boxes (\n",
      "\tid SERIAL NOT NULL, \n",
      "\tname VARCHAR NOT NULL, \n",
      "\tsize VARCHAR NOT NULL, \n",
      "\tessential BOOLEAN, \n",
      "\twarm BOOLEAN, \n",
      "\tliquid BOOLEAN, \n",
      "\tPRIMARY KEY (id)\n",
      ")\n",
      "\n",
      "\n",
      "2022-05-13 17:16:00,221 INFO sqlalchemy.engine.Engine [no key 0.00077s] {}\n",
      "2022-05-13 17:16:00,246 INFO sqlalchemy.engine.Engine \n",
      "CREATE TABLE items (\n",
      "\tid SERIAL NOT NULL, \n",
      "\tbox_id INTEGER NOT NULL, \n",
      "\tname VARCHAR NOT NULL, \n",
      "\tessential BOOLEAN NOT NULL, \n",
      "\twarm BOOLEAN NOT NULL, \n",
      "\tliquid BOOLEAN NOT NULL, \n",
      "\tPRIMARY KEY (id), \n",
      "\tFOREIGN KEY(box_id) REFERENCES boxes (id)\n",
      ")\n",
      "\n",
      "\n",
      "2022-05-13 17:16:00,247 INFO sqlalchemy.engine.Engine [no key 0.00060s] {}\n",
      "2022-05-13 17:16:00,253 INFO sqlalchemy.engine.Engine COMMIT\n"
     ]
    }
   ],
   "source": [
    "Base.metadata.create_all(engine)"
   ]
  },
  {
   "cell_type": "code",
   "execution_count": 136,
   "metadata": {},
   "outputs": [],
   "source": [
    "from euphoria.inventory.test_boxes import box_list, item_list"
   ]
  },
  {
   "cell_type": "code",
   "execution_count": 137,
   "metadata": {},
   "outputs": [
    {
     "name": "stdout",
     "output_type": "stream",
     "text": [
      "2022-05-13 17:16:39,276 INFO sqlalchemy.engine.Engine BEGIN (implicit)\n",
      "2022-05-13 17:16:39,280 INFO sqlalchemy.engine.Engine INSERT INTO boxes (name, size, essential, warm, liquid) VALUES (%(name)s, %(size)s, %(essential)s, %(warm)s, %(liquid)s) RETURNING boxes.id\n",
      "2022-05-13 17:16:39,281 INFO sqlalchemy.engine.Engine [generated in 0.00088s] ({'name': 'Computers', 'size': 'medium', 'essential': False, 'warm': True, 'liquid': False}, {'name': 'Monitors and Clock', 'size': 'xlarge', 'essential': False, 'warm': True, 'liquid': False}, {'name': 'Food Staples', 'size': 'medium', 'essential': True, 'warm': True, 'liquid': True}, {'name': 'The Box with the Longest Name Ever in the World', 'size': 'medium', 'essential': False, 'warm': False, 'liquid': False}, {'name': 'D', 'size': 'medium', 'essential': True, 'warm': False, 'liquid': True}, {'name': 'K Cups', 'size': 'medium', 'essential': False, 'warm': True, 'liquid': False}, {'name': 'TV', 'size': 'xlarge', 'essential': False, 'warm': True, 'liquid': False}, {'name': 'Widescreen', 'size': 'medium', 'essential': False, 'warm': False, 'liquid': False}  ... displaying 10 of 15 total bound parameter sets ...  {'name': 'Pots', 'size': 'medium', 'essential': False, 'warm': False, 'liquid': False}, {'name': 'Liquids', 'size': 'medium', 'essential': True, 'warm': False, 'liquid': True})\n",
      "2022-05-13 17:16:39,285 INFO sqlalchemy.engine.Engine INSERT INTO items (box_id, name, essential, warm, liquid) VALUES (%(box_id)s, %(name)s, %(essential)s, %(warm)s, %(liquid)s) RETURNING items.id\n",
      "2022-05-13 17:16:39,286 INFO sqlalchemy.engine.Engine [generated in 0.00064s] ({'box_id': 1, 'name': 'Battery Backup', 'essential': True, 'warm': False, 'liquid': True}, {'box_id': 1, 'name': 'Battery Backup1', 'essential': True, 'warm': False, 'liquid': True}, {'box_id': 1, 'name': 'Some cords that have a long name that messes it up', 'essential': False, 'warm': False, 'liquid': True}, {'box_id': 5, 'name': 'S', 'essential': True, 'warm': True, 'liquid': True}, {'box_id': 5, 'name': 'cords', 'essential': True, 'warm': False, 'liquid': False}, {'box_id': 4, 'name': 'Shite', 'essential': False, 'warm': False, 'liquid': False}, {'box_id': 2, 'name': 'Some cords that have a long name that messes it up', 'essential': False, 'warm': False, 'liquid': True}, {'box_id': 2, 'name': 'S', 'essential': True, 'warm': True, 'liquid': True}  ... displaying 10 of 40 total bound parameter sets ...  {'box_id': 2, 'name': 'Do you want some more?', 'essential': True, 'warm': False, 'liquid': False}, {'box_id': 3, 'name': 'Shite', 'essential': False, 'warm': False, 'liquid': False})\n",
      "2022-05-13 17:16:39,296 INFO sqlalchemy.engine.Engine COMMIT\n"
     ]
    }
   ],
   "source": [
    "with session:\n",
    "    for box in box_list:\n",
    "        session.add(Box(**box))\n",
    "    for item in item_list:\n",
    "        session.add(Item(**item))\n",
    "    session.commit()"
   ]
  },
  {
   "cell_type": "code",
   "execution_count": 138,
   "metadata": {},
   "outputs": [
    {
     "name": "stdout",
     "output_type": "stream",
     "text": [
      "2022-05-13 17:16:42,837 INFO sqlalchemy.engine.Engine BEGIN (implicit)\n",
      "2022-05-13 17:16:42,838 INFO sqlalchemy.engine.Engine SELECT boxes.id AS boxes_id, boxes.name AS boxes_name, boxes.size AS boxes_size, boxes.essential AS boxes_essential, boxes.warm AS boxes_warm, boxes.liquid AS boxes_liquid \n",
      "FROM boxes\n",
      "2022-05-13 17:16:42,839 INFO sqlalchemy.engine.Engine [generated in 0.00066s] {}\n",
      "[Box(name='Computers', size='medium', essential=False, warm=True, liquid=False), Box(name='Monitors and Clock', size='xlarge', essential=False, warm=True, liquid=False), Box(name='Food Staples', size='medium', essential=True, warm=True, liquid=True), Box(name='The Box with the Longest Name Ever in the World', size='medium', essential=False, warm=False, liquid=False), Box(name='D', size='medium', essential=True, warm=False, liquid=True), Box(name='K Cups', size='medium', essential=False, warm=True, liquid=False), Box(name='TV', size='xlarge', essential=False, warm=True, liquid=False), Box(name='Widescreen', size='medium', essential=False, warm=False, liquid=False), Box(name='The Box with the Longest Name Ever in the World', size='medium', essential=False, warm=False, liquid=False), Box(name='Pills', size='medium', essential=True, warm=False, liquid=True), Box(name='Random', size='medium', essential=False, warm=True, liquid=False), Box(name='Kitchen 1', size='xlarge', essential=False, warm=True, liquid=False), Box(name='Pans', size='medium', essential=False, warm=False, liquid=False), Box(name='Pots', size='medium', essential=False, warm=False, liquid=False), Box(name='Liquids', size='medium', essential=True, warm=False, liquid=True)]\n",
      "2022-05-13 17:16:42,840 INFO sqlalchemy.engine.Engine ROLLBACK\n"
     ]
    }
   ],
   "source": [
    "with session:\n",
    "    boxes = session.query(Box).all()\n",
    "    print(boxes)"
   ]
  },
  {
   "cell_type": "code",
   "execution_count": 121,
   "metadata": {},
   "outputs": [
    {
     "name": "stdout",
     "output_type": "stream",
     "text": [
      "Box(name='D', size='medium', essential=True, warm=False, liquid=True)\n",
      "\n",
      "[Item(box_id=5, name='S', essential=True, warm=True, liquid=True), Item(box_id=5, name='cords', essential=True, warm=False, liquid=False), Item(box_id=5, name='lamp', essential=True, warm=False, liquid=False), Item(box_id=5, name='S', essential=True, warm=True, liquid=True), Item(box_id=5, name='Do you want some more?', essential=True, warm=False, liquid=False), Item(box_id=5, name='Some cords that have a long name that messes it up', essential=False, warm=False, liquid=True)]\n"
     ]
    }
   ],
   "source": [
    "with session:\n",
    "    box = session.get(Box, 5)\n",
    "    print(box)\n",
    "    print()\n",
    "    print(box.items)"
   ]
  },
  {
   "cell_type": "code",
   "execution_count": 122,
   "metadata": {},
   "outputs": [],
   "source": [
    "with session:\n",
    "    box = session.get(Box, 5)\n",
    "    box.name = 'awesome box'\n",
    "    session.commit()"
   ]
  },
  {
   "cell_type": "code",
   "execution_count": 123,
   "metadata": {},
   "outputs": [
    {
     "name": "stdout",
     "output_type": "stream",
     "text": [
      "Box(name='awesome box', size='medium', essential=True, warm=False, liquid=True)\n"
     ]
    }
   ],
   "source": [
    "with session:\n",
    "    box = session.get(Box, 5)\n",
    "    print(box)"
   ]
  },
  {
   "cell_type": "code",
   "execution_count": 124,
   "metadata": {},
   "outputs": [
    {
     "name": "stdout",
     "output_type": "stream",
     "text": [
      "[Item(box_id=5, name='S', essential=True, warm=True, liquid=True), Item(box_id=5, name='cords', essential=True, warm=False, liquid=False), Item(box_id=5, name='lamp', essential=True, warm=False, liquid=False), Item(box_id=5, name='S', essential=True, warm=True, liquid=True), Item(box_id=5, name='Do you want some more?', essential=True, warm=False, liquid=False), Item(box_id=5, name='Some cords that have a long name that messes it up', essential=False, warm=False, liquid=True)]\n"
     ]
    }
   ],
   "source": [
    "with session:\n",
    "    items = session.execute(select(Item).where(Item.box_id == 5)).scalars().all()\n",
    "    print(items)"
   ]
  },
  {
   "cell_type": "code",
   "execution_count": 125,
   "metadata": {},
   "outputs": [],
   "source": [
    "with session:\n",
    "    box = session.get(Box, 5)\n",
    "    session.delete(box)\n",
    "    session.commit()"
   ]
  },
  {
   "cell_type": "code",
   "execution_count": 126,
   "metadata": {},
   "outputs": [
    {
     "name": "stdout",
     "output_type": "stream",
     "text": [
      "None\n",
      "\n",
      "None\n"
     ]
    }
   ],
   "source": [
    "with session:\n",
    "    box = session.get(Box, 5)\n",
    "    print(box)\n",
    "    print()\n",
    "    print(box.items if box else 'None')"
   ]
  },
  {
   "cell_type": "code",
   "execution_count": 127,
   "metadata": {},
   "outputs": [
    {
     "name": "stdout",
     "output_type": "stream",
     "text": [
      "[]\n"
     ]
    }
   ],
   "source": [
    "with session:\n",
    "    items = session.execute(select(Item).where(Item.box_id == 5)).scalars().all()\n",
    "    print(items)"
   ]
  },
  {
   "cell_type": "code",
   "execution_count": 128,
   "metadata": {},
   "outputs": [
    {
     "name": "stdout",
     "output_type": "stream",
     "text": [
      "14\n"
     ]
    }
   ],
   "source": [
    "with session:\n",
    "    count = session.query(Box).count()\n",
    "    print(count)"
   ]
  },
  {
   "cell_type": "code",
   "execution_count": 129,
   "metadata": {},
   "outputs": [
    {
     "name": "stdout",
     "output_type": "stream",
     "text": [
      "14\n"
     ]
    }
   ],
   "source": [
    "with session:\n",
    "    count = session.execute(select(func.count()).select_from(Box)).scalar()\n",
    "    print(count)"
   ]
  },
  {
   "cell_type": "markdown",
   "metadata": {},
   "source": [
    "## Association Tables - Many to Many"
   ]
  },
  {
   "cell_type": "code",
   "execution_count": 59,
   "metadata": {},
   "outputs": [],
   "source": [
    "from sqlalchemy import Table"
   ]
  },
  {
   "cell_type": "code",
   "execution_count": 60,
   "metadata": {},
   "outputs": [],
   "source": [
    "# association_table = Table('association', Base.metadata,\n",
    "#     Column('left_id', Integer, ForeignKey('left.id')),\n",
    "#     Column('right_id', Integer, ForeignKey('right.id'))\n",
    "# )\n",
    "\n",
    "# class Parent(Base):\n",
    "#     __tablename__ = 'left'\n",
    "#     id = Column(Integer, primary_key=True)\n",
    "#     children = relationship(\n",
    "#         \"Child\",\n",
    "#         secondary=association_table,\n",
    "#         back_populates=\"parents\",\n",
    "#         cascade=\"all, delete\"\n",
    "#     )\n",
    "\n",
    "# class Child(Base):\n",
    "#     __tablename__ = 'right'\n",
    "#     id = Column(Integer, primary_key=True)\n",
    "#     parents = relationship(\n",
    "#         \"Parent\",\n",
    "#         secondary=association_table,\n",
    "#         back_populates=\"children\",\n",
    "#     )"
   ]
  },
  {
   "cell_type": "code",
   "execution_count": 61,
   "metadata": {},
   "outputs": [],
   "source": [
    "class Apartment(Base):\n",
    "    __tablename__ = 'apartments'\n",
    "    id = Column(Integer, primary_key=True)\n",
    "    features = relationship(\n",
    "        \"Feature\",\n",
    "        back_populates=\"apartments\",\n",
    "        cascade=\"all, delete\"\n",
    "    )\n",
    "\n",
    "class Feature(Base):\n",
    "    __tablename__ = 'features'\n",
    "    id = Column(Integer, primary_key=True)\n",
    "    apt_id = Column(Integer, ForeignKey('apartments.id'))\n",
    "    apartment = relationship(\n",
    "        \"Apartment\",\n",
    "        back_populates=\"features\",\n",
    "    )"
   ]
  },
  {
   "cell_type": "markdown",
   "metadata": {},
   "source": [
    "## Default Values"
   ]
  },
  {
   "cell_type": "code",
   "execution_count": 62,
   "metadata": {},
   "outputs": [],
   "source": [
    "class MyModel(Base):\n",
    "    __tablename__ = 'my_table'\n",
    "\n",
    "    id = Column(Integer, primary_key=True)\n",
    "    timestamp = Column(DateTime(), server_default=func.now())\n",
    "\n"
   ]
  },
  {
   "cell_type": "code",
   "execution_count": 7,
   "metadata": {},
   "outputs": [],
   "source": [
    "from datetime import date, timedelta\n",
    "import calendar\n",
    "today = date.today()\n",
    "tomorrow = today + timedelta(days=1)\n",
    "yesterday = today - timedelta(days=1)\n",
    "previous_7 = today - timedelta(days=7)\n",
    "previous_30 = today - timedelta(days=30)\n",
    "_month_days = calendar.monthrange(today.year, today.month)[1]\n",
    "week_number = today.isocalendar().week\n",
    "week_start = date.fromisocalendar(today.year, week_number, 1)\n",
    "week_end = week_start + timedelta(days=7)\n",
    "this_month = date(today.year, today.month, 1)\n",
    "next_month = this_month + timedelta(days=_month_days)\n",
    "this_year = date(today.year, 1, 1)\n",
    "next_year = date(today.year + 1, 1, 1)"
   ]
  },
  {
   "cell_type": "code",
   "execution_count": 8,
   "metadata": {},
   "outputs": [
    {
     "name": "stdout",
     "output_type": "stream",
     "text": [
      "today = datetime.date(2022, 5, 27)\n",
      "tomorrow = datetime.date(2022, 5, 28)\n",
      "yesterday = datetime.date(2022, 5, 26)\n",
      "previous_7 = datetime.date(2022, 5, 20)\n",
      "previous_30 = datetime.date(2022, 4, 27)\n",
      "_month_days = 31\n",
      "week_number = 21\n",
      "week_start = datetime.date(2022, 5, 23)\n",
      "week_end = datetime.date(2022, 5, 30)\n",
      "this_month = datetime.date(2022, 5, 1)\n",
      "next_month = datetime.date(2022, 6, 1)\n",
      "this_year = datetime.date(2022, 1, 1)\n",
      "next_year = datetime.date(2023, 1, 1)\n"
     ]
    }
   ],
   "source": [
    "print(f'{today = }')\n",
    "print(f'{tomorrow = }')\n",
    "print(f'{yesterday = }')\n",
    "print(f'{previous_7 = }')\n",
    "print(f'{previous_30 = }')\n",
    "print(f'{_month_days = }')\n",
    "print(f'{week_number = }')\n",
    "print(f'{week_start = }')\n",
    "print(f'{week_end = }')\n",
    "print(f'{this_month = }')\n",
    "print(f'{next_month = }')\n",
    "print(f'{this_year = }')\n",
    "print(f'{next_year = }')"
   ]
  },
  {
   "cell_type": "code",
   "execution_count": null,
   "metadata": {},
   "outputs": [],
   "source": []
  },
  {
   "cell_type": "code",
   "execution_count": null,
   "metadata": {},
   "outputs": [],
   "source": []
  },
  {
   "cell_type": "markdown",
   "metadata": {},
   "source": [
    "## Basic Association Example"
   ]
  },
  {
   "cell_type": "code",
   "execution_count": null,
   "metadata": {},
   "outputs": [],
   "source": [
    "\"\"\"Illustrate a many-to-many relationship between an\n",
    "\"Order\" and a collection of \"Item\" objects, associating a purchase price\n",
    "with each via an association object called \"OrderItem\"\n",
    "\n",
    "The association object pattern is a form of many-to-many which\n",
    "associates additional data with each association between parent/child.\n",
    "\n",
    "The example illustrates an \"order\", referencing a collection\n",
    "of \"items\", with a particular price paid associated with each \"item\".\n",
    "\n",
    "\"\"\"\n",
    "\n",
    "from datetime import datetime\n",
    "\n",
    "from sqlalchemy import and_\n",
    "from sqlalchemy import Column\n",
    "from sqlalchemy import create_engine\n",
    "from sqlalchemy import DateTime\n",
    "from sqlalchemy import Float\n",
    "from sqlalchemy import ForeignKey\n",
    "from sqlalchemy import Integer\n",
    "from sqlalchemy import String\n",
    "from sqlalchemy.ext.declarative import declarative_base\n",
    "from sqlalchemy.orm import relationship\n",
    "from sqlalchemy.orm import Session\n",
    "\n",
    "\n",
    "Base = declarative_base()\n",
    "\n",
    "\n",
    "class Order(Base):\n",
    "    __tablename__ = \"order\"\n",
    "\n",
    "    order_id = Column(Integer, primary_key=True)\n",
    "    customer_name = Column(String(30), nullable=False)\n",
    "    order_date = Column(DateTime, nullable=False, default=datetime.now())\n",
    "    order_items = relationship(\n",
    "        \"OrderItem\", cascade=\"all, delete-orphan\", backref=\"order\"\n",
    "    )\n",
    "\n",
    "    def __init__(self, customer_name):\n",
    "        self.customer_name = customer_name\n",
    "\n",
    "\n",
    "class Item(Base):\n",
    "    __tablename__ = \"item\"\n",
    "    item_id = Column(Integer, primary_key=True)\n",
    "    description = Column(String(30), nullable=False)\n",
    "    price = Column(Float, nullable=False)\n",
    "\n",
    "    def __init__(self, description, price):\n",
    "        self.description = description\n",
    "        self.price = price\n",
    "\n",
    "    def __repr__(self):\n",
    "        return \"Item(%r, %r)\" % (self.description, self.price)\n",
    "\n",
    "\n",
    "class OrderItem(Base):\n",
    "    __tablename__ = \"orderitem\"\n",
    "    order_id = Column(Integer, ForeignKey(\"order.order_id\"), primary_key=True)\n",
    "    item_id = Column(Integer, ForeignKey(\"item.item_id\"), primary_key=True)\n",
    "    price = Column(Float, nullable=False)\n",
    "\n",
    "    def __init__(self, item, price=None):\n",
    "        self.item = item\n",
    "        self.price = price or item.price\n",
    "\n",
    "    item = relationship(Item, lazy=\"joined\")\n",
    "\n",
    "\n",
    "if __name__ == \"__main__\":\n",
    "    engine = create_engine(\"sqlite://\")\n",
    "    Base.metadata.create_all(engine)\n",
    "\n",
    "    session = Session(engine)\n",
    "\n",
    "    # create catalog\n",
    "    tshirt, mug, hat, crowbar = (\n",
    "        Item(\"SA T-Shirt\", 10.99),\n",
    "        Item(\"SA Mug\", 6.50),\n",
    "        Item(\"SA Hat\", 8.99),\n",
    "        Item(\"MySQL Crowbar\", 16.99),\n",
    "    )\n",
    "    session.add_all([tshirt, mug, hat, crowbar])\n",
    "    session.commit()\n",
    "\n",
    "    # create an order\n",
    "    order = Order(\"john smith\")\n",
    "\n",
    "    # add three OrderItem associations to the Order and save\n",
    "    order.order_items.append(OrderItem(mug))\n",
    "    order.order_items.append(OrderItem(crowbar, 10.99))\n",
    "    order.order_items.append(OrderItem(hat))\n",
    "    session.add(order)\n",
    "    session.commit()\n",
    "\n",
    "    # query the order, print items\n",
    "    order = session.query(Order).filter_by(customer_name=\"john smith\").one()\n",
    "    print(\n",
    "        [\n",
    "            (order_item.item.description, order_item.price)\n",
    "            for order_item in order.order_items\n",
    "        ]\n",
    "    )\n",
    "\n",
    "    # print customers who bought 'MySQL Crowbar' on sale\n",
    "    q = session.query(Order).join(\"order_items\", \"item\")\n",
    "    q = q.filter(\n",
    "        and_(Item.description == \"MySQL Crowbar\", Item.price > OrderItem.price)\n",
    "    )\n",
    "\n",
    "    print([order.customer_name for order in q])"
   ]
  }
 ],
 "metadata": {
  "interpreter": {
   "hash": "676d7478310348f31b6a4734c5ce57711dc919885f9515825b943857fe7668aa"
  },
  "kernelspec": {
   "display_name": "Python 3.10.2 ('.venv': poetry)",
   "language": "python",
   "name": "python3"
  },
  "language_info": {
   "codemirror_mode": {
    "name": "ipython",
    "version": 3
   },
   "file_extension": ".py",
   "mimetype": "text/x-python",
   "name": "python",
   "nbconvert_exporter": "python",
   "pygments_lexer": "ipython3",
   "version": "3.10.2"
  },
  "orig_nbformat": 4
 },
 "nbformat": 4,
 "nbformat_minor": 2
}
