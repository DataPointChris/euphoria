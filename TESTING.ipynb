{
 "cells": [
  {
   "cell_type": "code",
   "execution_count": 1,
   "metadata": {},
   "outputs": [],
   "source": [
    "import docker"
   ]
  },
  {
   "cell_type": "code",
   "execution_count": 45,
   "metadata": {},
   "outputs": [],
   "source": [
    "client = docker.DockerClient()"
   ]
  },
  {
   "cell_type": "code",
   "execution_count": 79,
   "metadata": {},
   "outputs": [],
   "source": [
    "testdb = client.containers.run(\n",
    "    'postgres:14',\n",
    "    detach=True,\n",
    "    environment={\n",
    "        'ENVIRONMENT': 'development',\n",
    "        'POSTGRES_USER': 'postgres',\n",
    "        'POSTGRES_PASSWORD': 'postgres',\n",
    "    },\n",
    "    name='testdb',\n",
    "    ports={5432: 5434},\n",
    "    mem_limit='2g',\n",
    "    auto_remove=True,\n",
    ")\n"
   ]
  },
  {
   "cell_type": "code",
   "execution_count": 101,
   "metadata": {},
   "outputs": [],
   "source": [
    "testdb.stop()"
   ]
  },
  {
   "cell_type": "code",
   "execution_count": 91,
   "metadata": {},
   "outputs": [],
   "source": []
  },
  {
   "cell_type": "code",
   "execution_count": 96,
   "metadata": {},
   "outputs": [
    {
     "name": "stdout",
     "output_type": "stream",
     "text": [
      "1 Record inserted successfully\n",
      "Result  [(1, 'Iphone12', 1100.0)]\n",
      "1 Record updated successfully \n",
      "Result  [(1, 'Iphone12', 1500.0)]\n",
      "1 Record deleted successfully \n",
      "Result  []\n"
     ]
    }
   ],
   "source": [
    "import psycopg2\n",
    "connection = psycopg2.connect(user='postgres', password='postgres', host='localhost', port='5434', database='postgres')\n",
    "cursor = conn.cursor()\n",
    "create_table_query = '''CREATE TABLE mobile\n",
    "          (ID INT PRIMARY KEY     NOT NULL,\n",
    "          MODEL           TEXT    NOT NULL,\n",
    "          PRICE         REAL); '''\n",
    "    # Execute a command: this creates a new table\n",
    "cursor.execute(create_table_query)\n",
    "connection.commit()\n",
    "# Executing a SQL query to insert data into  table\n",
    "insert_query = \"\"\" INSERT INTO mobile (ID, MODEL, PRICE) VALUES (1, 'Iphone12', 1100)\"\"\"\n",
    "cursor.execute(insert_query)\n",
    "connection.commit()\n",
    "print(\"1 Record inserted successfully\")\n",
    "# Fetch result\n",
    "cursor.execute(\"SELECT * from mobile\")\n",
    "record = cursor.fetchall()\n",
    "print(\"Result \", record)\n",
    "\n",
    "# Executing a SQL query to update table\n",
    "update_query = \"\"\"Update mobile set price = 1500 where id = 1\"\"\"\n",
    "cursor.execute(update_query)\n",
    "connection.commit()\n",
    "count = cursor.rowcount\n",
    "print(count, \"Record updated successfully \")\n",
    "# Fetch result\n",
    "cursor.execute(\"SELECT * from mobile\")\n",
    "print(\"Result \", cursor.fetchall())\n",
    "\n",
    "# Executing a SQL query to delete table\n",
    "delete_query = \"\"\"Delete from mobile where id = 1\"\"\"\n",
    "cursor.execute(delete_query)\n",
    "connection.commit()\n",
    "count = cursor.rowcount\n",
    "print(count, \"Record deleted successfully \")\n",
    "# Fetch result\n",
    "cursor.execute(\"SELECT * from mobile\")\n",
    "print(\"Result \", cursor.fetchall())\n"
   ]
  },
  {
   "cell_type": "code",
   "execution_count": null,
   "metadata": {},
   "outputs": [],
   "source": []
  },
  {
   "cell_type": "code",
   "execution_count": null,
   "metadata": {},
   "outputs": [],
   "source": []
  },
  {
   "cell_type": "code",
   "execution_count": null,
   "metadata": {},
   "outputs": [],
   "source": []
  },
  {
   "cell_type": "code",
   "execution_count": null,
   "metadata": {},
   "outputs": [],
   "source": []
  },
  {
   "cell_type": "code",
   "execution_count": null,
   "metadata": {},
   "outputs": [],
   "source": []
  },
  {
   "cell_type": "code",
   "execution_count": null,
   "metadata": {},
   "outputs": [],
   "source": []
  },
  {
   "cell_type": "code",
   "execution_count": null,
   "metadata": {},
   "outputs": [],
   "source": []
  },
  {
   "cell_type": "code",
   "execution_count": null,
   "metadata": {},
   "outputs": [],
   "source": []
  },
  {
   "cell_type": "code",
   "execution_count": null,
   "metadata": {},
   "outputs": [],
   "source": []
  },
  {
   "cell_type": "code",
   "execution_count": null,
   "metadata": {},
   "outputs": [],
   "source": []
  },
  {
   "cell_type": "code",
   "execution_count": null,
   "metadata": {},
   "outputs": [],
   "source": []
  },
  {
   "cell_type": "code",
   "execution_count": null,
   "metadata": {},
   "outputs": [],
   "source": []
  },
  {
   "cell_type": "code",
   "execution_count": null,
   "metadata": {},
   "outputs": [],
   "source": []
  },
  {
   "cell_type": "code",
   "execution_count": null,
   "metadata": {},
   "outputs": [],
   "source": []
  },
  {
   "cell_type": "code",
   "execution_count": null,
   "metadata": {},
   "outputs": [],
   "source": []
  },
  {
   "cell_type": "code",
   "execution_count": null,
   "metadata": {},
   "outputs": [],
   "source": []
  },
  {
   "cell_type": "code",
   "execution_count": null,
   "metadata": {},
   "outputs": [],
   "source": []
  }
 ],
 "metadata": {
  "interpreter": {
   "hash": "676d7478310348f31b6a4734c5ce57711dc919885f9515825b943857fe7668aa"
  },
  "kernelspec": {
   "display_name": "Python 3.10.2 ('.venv': poetry)",
   "language": "python",
   "name": "python3"
  },
  "language_info": {
   "codemirror_mode": {
    "name": "ipython",
    "version": 3
   },
   "file_extension": ".py",
   "mimetype": "text/x-python",
   "name": "python",
   "nbconvert_exporter": "python",
   "pygments_lexer": "ipython3",
   "version": "3.10.6"
  },
  "orig_nbformat": 4
 },
 "nbformat": 4,
 "nbformat_minor": 2
}
