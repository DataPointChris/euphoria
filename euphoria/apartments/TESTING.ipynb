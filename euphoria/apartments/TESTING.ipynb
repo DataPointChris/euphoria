{
 "cells": [
  {
   "cell_type": "markdown",
   "metadata": {},
   "source": [
    "# Testing\n",
    "\n",
    "No real code here, clean up when done."
   ]
  },
  {
   "cell_type": "code",
   "execution_count": 66,
   "metadata": {},
   "outputs": [],
   "source": [
    "import csv\n",
    "import pandas as pd\n",
    "import sqlite3\n",
    "import random\n",
    "from pprint import pprint"
   ]
  },
  {
   "cell_type": "code",
   "execution_count": 6,
   "metadata": {},
   "outputs": [],
   "source": [
    "df = pd.read_csv('new_apartments.csv')\n",
    "apts = df.to_dict()\n",
    "records = df.to_dict('records')\n",
    "columns = list(apts.keys())"
   ]
  },
  {
   "cell_type": "code",
   "execution_count": 10,
   "metadata": {},
   "outputs": [
    {
     "data": {
      "text/plain": [
       "[{'name': 'Windsor Westbridge',\n",
       "  'address': '2300 Marsh Ln, Carrollton, TX 75006',\n",
       "  'url': 'https://www.apartments.com/windsor-westbridge-carrollton-tx/jmxtw14/',\n",
       "  'year': nan,\n",
       "  'rent': nan,\n",
       "  'sqft': nan,\n",
       "  'price_per': nan,\n",
       "  'pet_rent': nan,\n",
       "  'pet_deposit': nan,\n",
       "  'fees': nan,\n",
       "  'dishwasher': nan,\n",
       "  'washer_dryer': nan,\n",
       "  'countertops': nan,\n",
       "  'floor_level': nan,\n",
       "  'dog_walking': nan,\n",
       "  'dog_park': nan,\n",
       "  'groceries': nan,\n",
       "  'costco': nan,\n",
       "  'gym': nan,\n",
       "  'apt_gym': nan,\n",
       "  'quiet_ac': nan,\n",
       "  'ac_filter_can_change': nan,\n",
       "  'parking': nan,\n",
       "  'smart_thermostat': nan,\n",
       "  'electronic_lock': nan,\n",
       "  'trails': nan,\n",
       "  'bike_lanes': nan,\n",
       "  'to_work': nan,\n",
       "  'toll_road': nan,\n",
       "  'walk_in_closet': nan,\n",
       "  'ceiling_fans': nan,\n",
       "  'guest_parking': nan,\n",
       "  'speed_bumps': nan,\n",
       "  'notes': nan},\n",
       " {'name': '16301 Ledgemont Ln',\n",
       "  'address': '16301 Ledgemont Ln, Addison, TX 75001',\n",
       "  'url': 'https://www.apartments.com/16301-ledgemont-ln-addison-tx/66e3ets/',\n",
       "  'year': nan,\n",
       "  'rent': nan,\n",
       "  'sqft': nan,\n",
       "  'price_per': nan,\n",
       "  'pet_rent': nan,\n",
       "  'pet_deposit': nan,\n",
       "  'fees': nan,\n",
       "  'dishwasher': nan,\n",
       "  'washer_dryer': nan,\n",
       "  'countertops': nan,\n",
       "  'floor_level': nan,\n",
       "  'dog_walking': nan,\n",
       "  'dog_park': nan,\n",
       "  'groceries': nan,\n",
       "  'costco': nan,\n",
       "  'gym': nan,\n",
       "  'apt_gym': nan,\n",
       "  'quiet_ac': nan,\n",
       "  'ac_filter_can_change': nan,\n",
       "  'parking': nan,\n",
       "  'smart_thermostat': nan,\n",
       "  'electronic_lock': nan,\n",
       "  'trails': nan,\n",
       "  'bike_lanes': nan,\n",
       "  'to_work': nan,\n",
       "  'toll_road': nan,\n",
       "  'walk_in_closet': nan,\n",
       "  'ceiling_fans': nan,\n",
       "  'guest_parking': nan,\n",
       "  'speed_bumps': nan,\n",
       "  'notes': nan},\n",
       " {'name': 'Bent Tree Trails',\n",
       "  'address': '16300 Ledgemenont Ln, Addison, TX 75001',\n",
       "  'url': 'https://www.apartments.com/bent-tree-trails-addison-tx/k8cf7s8/',\n",
       "  'year': nan,\n",
       "  'rent': nan,\n",
       "  'sqft': nan,\n",
       "  'price_per': nan,\n",
       "  'pet_rent': nan,\n",
       "  'pet_deposit': nan,\n",
       "  'fees': nan,\n",
       "  'dishwasher': nan,\n",
       "  'washer_dryer': nan,\n",
       "  'countertops': nan,\n",
       "  'floor_level': nan,\n",
       "  'dog_walking': nan,\n",
       "  'dog_park': nan,\n",
       "  'groceries': nan,\n",
       "  'costco': nan,\n",
       "  'gym': nan,\n",
       "  'apt_gym': nan,\n",
       "  'quiet_ac': nan,\n",
       "  'ac_filter_can_change': nan,\n",
       "  'parking': nan,\n",
       "  'smart_thermostat': nan,\n",
       "  'electronic_lock': nan,\n",
       "  'trails': nan,\n",
       "  'bike_lanes': nan,\n",
       "  'to_work': nan,\n",
       "  'toll_road': nan,\n",
       "  'walk_in_closet': nan,\n",
       "  'ceiling_fans': nan,\n",
       "  'guest_parking': nan,\n",
       "  'speed_bumps': nan,\n",
       "  'notes': nan},\n",
       " {'name': 'MAA Addison Circle',\n",
       "  'address': '5009 Addison Cir, Addison, TX 75001',\n",
       "  'url': 'https://www.apartments.com/maa-addison-circle-addison-tx/39b587f/',\n",
       "  'year': nan,\n",
       "  'rent': nan,\n",
       "  'sqft': nan,\n",
       "  'price_per': nan,\n",
       "  'pet_rent': nan,\n",
       "  'pet_deposit': nan,\n",
       "  'fees': nan,\n",
       "  'dishwasher': nan,\n",
       "  'washer_dryer': nan,\n",
       "  'countertops': nan,\n",
       "  'floor_level': nan,\n",
       "  'dog_walking': nan,\n",
       "  'dog_park': nan,\n",
       "  'groceries': nan,\n",
       "  'costco': nan,\n",
       "  'gym': nan,\n",
       "  'apt_gym': nan,\n",
       "  'quiet_ac': nan,\n",
       "  'ac_filter_can_change': nan,\n",
       "  'parking': nan,\n",
       "  'smart_thermostat': nan,\n",
       "  'electronic_lock': nan,\n",
       "  'trails': nan,\n",
       "  'bike_lanes': nan,\n",
       "  'to_work': nan,\n",
       "  'toll_road': nan,\n",
       "  'walk_in_closet': nan,\n",
       "  'ceiling_fans': nan,\n",
       "  'guest_parking': nan,\n",
       "  'speed_bumps': nan,\n",
       "  'notes': nan},\n",
       " {'name': 'Woods at Lakeshore',\n",
       "  'address': '3560 Country Square Dr, Carrollton, TX 75006',\n",
       "  'url': 'https://www.apartments.com/woods-at-lakeshore-carrollton-tx/bgc3k19/',\n",
       "  'year': nan,\n",
       "  'rent': nan,\n",
       "  'sqft': nan,\n",
       "  'price_per': nan,\n",
       "  'pet_rent': nan,\n",
       "  'pet_deposit': nan,\n",
       "  'fees': nan,\n",
       "  'dishwasher': nan,\n",
       "  'washer_dryer': nan,\n",
       "  'countertops': nan,\n",
       "  'floor_level': nan,\n",
       "  'dog_walking': nan,\n",
       "  'dog_park': nan,\n",
       "  'groceries': nan,\n",
       "  'costco': nan,\n",
       "  'gym': nan,\n",
       "  'apt_gym': nan,\n",
       "  'quiet_ac': nan,\n",
       "  'ac_filter_can_change': nan,\n",
       "  'parking': nan,\n",
       "  'smart_thermostat': nan,\n",
       "  'electronic_lock': nan,\n",
       "  'trails': nan,\n",
       "  'bike_lanes': nan,\n",
       "  'to_work': nan,\n",
       "  'toll_road': nan,\n",
       "  'walk_in_closet': nan,\n",
       "  'ceiling_fans': nan,\n",
       "  'guest_parking': nan,\n",
       "  'speed_bumps': nan,\n",
       "  'notes': nan},\n",
       " {'name': 'Lakehill Townhomes',\n",
       "  'address': '2610 Lakehill Ln, Carrollton, TX 75006',\n",
       "  'url': 'https://www.apartments.com/lakehill-townhomes-carrollton-tx/7nnr49y/',\n",
       "  'year': nan,\n",
       "  'rent': nan,\n",
       "  'sqft': nan,\n",
       "  'price_per': nan,\n",
       "  'pet_rent': nan,\n",
       "  'pet_deposit': nan,\n",
       "  'fees': nan,\n",
       "  'dishwasher': nan,\n",
       "  'washer_dryer': nan,\n",
       "  'countertops': nan,\n",
       "  'floor_level': nan,\n",
       "  'dog_walking': nan,\n",
       "  'dog_park': nan,\n",
       "  'groceries': nan,\n",
       "  'costco': nan,\n",
       "  'gym': nan,\n",
       "  'apt_gym': nan,\n",
       "  'quiet_ac': nan,\n",
       "  'ac_filter_can_change': nan,\n",
       "  'parking': nan,\n",
       "  'smart_thermostat': nan,\n",
       "  'electronic_lock': nan,\n",
       "  'trails': nan,\n",
       "  'bike_lanes': nan,\n",
       "  'to_work': nan,\n",
       "  'toll_road': nan,\n",
       "  'walk_in_closet': nan,\n",
       "  'ceiling_fans': nan,\n",
       "  'guest_parking': nan,\n",
       "  'speed_bumps': nan,\n",
       "  'notes': nan},\n",
       " {'name': 'Huntington Cove Townhomes',\n",
       "  'address': '14802 Enterprise Dr, Farmers Branch, TX 75234',\n",
       "  'url': 'https://www.apartments.com/huntington-cove-townhomes-farmers-branch-tx/lr2mtbd/',\n",
       "  'year': nan,\n",
       "  'rent': nan,\n",
       "  'sqft': nan,\n",
       "  'price_per': nan,\n",
       "  'pet_rent': nan,\n",
       "  'pet_deposit': nan,\n",
       "  'fees': nan,\n",
       "  'dishwasher': nan,\n",
       "  'washer_dryer': nan,\n",
       "  'countertops': nan,\n",
       "  'floor_level': nan,\n",
       "  'dog_walking': nan,\n",
       "  'dog_park': nan,\n",
       "  'groceries': nan,\n",
       "  'costco': nan,\n",
       "  'gym': nan,\n",
       "  'apt_gym': nan,\n",
       "  'quiet_ac': nan,\n",
       "  'ac_filter_can_change': nan,\n",
       "  'parking': nan,\n",
       "  'smart_thermostat': nan,\n",
       "  'electronic_lock': nan,\n",
       "  'trails': nan,\n",
       "  'bike_lanes': nan,\n",
       "  'to_work': nan,\n",
       "  'toll_road': nan,\n",
       "  'walk_in_closet': nan,\n",
       "  'ceiling_fans': nan,\n",
       "  'guest_parking': nan,\n",
       "  'speed_bumps': nan,\n",
       "  'notes': nan},\n",
       " {'name': 'Jade Addison',\n",
       "  'address': '3721 Spring Valley Rd, Addison, TX 75001',\n",
       "  'url': 'https://www.apartments.com/jade-addison-addison-tx/rb6wv72/',\n",
       "  'year': nan,\n",
       "  'rent': nan,\n",
       "  'sqft': nan,\n",
       "  'price_per': nan,\n",
       "  'pet_rent': nan,\n",
       "  'pet_deposit': nan,\n",
       "  'fees': nan,\n",
       "  'dishwasher': nan,\n",
       "  'washer_dryer': nan,\n",
       "  'countertops': nan,\n",
       "  'floor_level': nan,\n",
       "  'dog_walking': nan,\n",
       "  'dog_park': nan,\n",
       "  'groceries': nan,\n",
       "  'costco': nan,\n",
       "  'gym': nan,\n",
       "  'apt_gym': nan,\n",
       "  'quiet_ac': nan,\n",
       "  'ac_filter_can_change': nan,\n",
       "  'parking': nan,\n",
       "  'smart_thermostat': nan,\n",
       "  'electronic_lock': nan,\n",
       "  'trails': nan,\n",
       "  'bike_lanes': nan,\n",
       "  'to_work': nan,\n",
       "  'toll_road': nan,\n",
       "  'walk_in_closet': nan,\n",
       "  'ceiling_fans': nan,\n",
       "  'guest_parking': nan,\n",
       "  'speed_bumps': nan,\n",
       "  'notes': nan}]"
      ]
     },
     "execution_count": 10,
     "metadata": {},
     "output_type": "execute_result"
    }
   ],
   "source": [
    "records"
   ]
  },
  {
   "cell_type": "code",
   "execution_count": 69,
   "metadata": {},
   "outputs": [],
   "source": [
    "from pynamodb.attributes import UnicodeAttribute, ListAttribute\n",
    "from pynamodb.models import Model\n",
    "from dataclasses import dataclass\n",
    "\n",
    "class Apartment(Model):\n",
    "    class Meta:\n",
    "        table_name = 'apartments'\n",
    "        region = 'us-east-1'\n",
    "        host = 'http://localhost:4800'\n",
    "\n",
    "    name = UnicodeAttribute(hash_key=True)\n",
    "    address = UnicodeAttribute()\n",
    "    url = UnicodeAttribute()\n",
    "    notes = UnicodeAttribute()\n",
    "    features = ListAttribute(default=list)\n"
   ]
  },
  {
   "cell_type": "code",
   "execution_count": 70,
   "metadata": {},
   "outputs": [],
   "source": [
    "@dataclass\n",
    "class Feature():\n",
    "    name: str\n",
    "    value: str | bool | int"
   ]
  },
  {
   "cell_type": "code",
   "execution_count": 57,
   "metadata": {},
   "outputs": [],
   "source": [
    "Apartment.create_table(read_capacity_units=1, write_capacity_units=1)"
   ]
  },
  {
   "cell_type": "code",
   "execution_count": 62,
   "metadata": {},
   "outputs": [],
   "source": [
    "apt = Apartment(\n",
    "    name='An okay apartment',\n",
    "    address='1234 Marsh Ln, Carrollton, TX 75006',\n",
    "    url='https://www.apartments.com/windsor-westbridge-carrollton-tx/jmxtw14/',\n",
    "    notes='Lots of long notes and some can\\'t contractions in here',\n",
    "    features=[\n",
    "        {'name': 'granite', 'value': True},\n",
    "        {'name': 'ceiling fans', 'value': True},\n",
    "        {'name': 'sqft', 'value': 770},\n",
    "        {'name': 'rent', 'value': 1250},\n",
    "    ],\n",
    ")\n"
   ]
  },
  {
   "cell_type": "code",
   "execution_count": 81,
   "metadata": {},
   "outputs": [],
   "source": [
    "apdict = dict(\n",
    "    name='Dict Apartment',\n",
    "    address='1234 Marsh Ln, Carrollton, TX 75006',\n",
    "    url='https://www.apartments.com/windsor-westbridge-carrollton-tx/jmxtw14/',\n",
    "    notes='Lots of long notes and some can\\'t contractions in here',\n",
    "    features=[\n",
    "        {'name': 'granite', 'value': True},\n",
    "        {'name': 'ceiling fans', 'value': True},\n",
    "        {'name': 'sqft', 'value': 770},\n",
    "        {'name': 'rent', 'value': 1250},\n",
    "    ],\n",
    ")\n"
   ]
  },
  {
   "cell_type": "code",
   "execution_count": 63,
   "metadata": {},
   "outputs": [
    {
     "data": {
      "text/plain": [
       "{'ConsumedCapacity': {'TableName': 'apartments', 'CapacityUnits': 1.0}}"
      ]
     },
     "execution_count": 63,
     "metadata": {},
     "output_type": "execute_result"
    }
   ],
   "source": [
    "apt.save()"
   ]
  },
  {
   "cell_type": "code",
   "execution_count": 77,
   "metadata": {},
   "outputs": [
    {
     "data": {
      "text/plain": [
       "[Feature(name='granite', value=True),\n",
       " Feature(name='ceiling fans', value=True),\n",
       " Feature(name='sqft', value=770),\n",
       " Feature(name='rent', value=1250)]"
      ]
     },
     "execution_count": 77,
     "metadata": {},
     "output_type": "execute_result"
    }
   ],
   "source": [
    "apt = Apartment.get('An okay apartment')\n",
    "[Feature(**f) for f in apt.features]"
   ]
  },
  {
   "cell_type": "code",
   "execution_count": 40,
   "metadata": {},
   "outputs": [
    {
     "data": {
      "text/plain": [
       "'Windsor Westssddge'"
      ]
     },
     "execution_count": 40,
     "metadata": {},
     "output_type": "execute_result"
    }
   ],
   "source": [
    "apt.name"
   ]
  },
  {
   "cell_type": "code",
   "execution_count": 74,
   "metadata": {},
   "outputs": [
    {
     "name": "stdout",
     "output_type": "stream",
     "text": [
      "Windsor Westssddge\n",
      "[]\n",
      "Windsor Westbridge\n",
      "[]\n",
      "An okay apartment\n",
      "[{'name': 'granite', 'value': True}, {'name': 'ceiling fans', 'value': True}, {'name': 'sqft', 'value': 770}, {'name': 'rent', 'value': 1250}]\n"
     ]
    }
   ],
   "source": [
    "for apt in Apartment.scan():\n",
    "    print(apt.name)\n",
    "    print(apt.features)"
   ]
  },
  {
   "cell_type": "code",
   "execution_count": 95,
   "metadata": {},
   "outputs": [],
   "source": [
    "apts = [a for a in Apartment.scan()]\n",
    "name = 'An okay apartent'"
   ]
  },
  {
   "cell_type": "code",
   "execution_count": 99,
   "metadata": {},
   "outputs": [
    {
     "name": "stdout",
     "output_type": "stream",
     "text": [
      "None\n"
     ]
    }
   ],
   "source": [
    "\n",
    "    print('None')\n",
    "else:\n",
    "    print(apt.address)"
   ]
  },
  {
   "cell_type": "code",
   "execution_count": 84,
   "metadata": {},
   "outputs": [
    {
     "data": {
      "text/plain": [
       "{'ConsumedCapacity': {'TableName': 'apartments', 'CapacityUnits': 1.0}}"
      ]
     },
     "execution_count": 84,
     "metadata": {},
     "output_type": "execute_result"
    }
   ],
   "source": [
    "aa = Apartment(**apdict)\n",
    "aa.save()"
   ]
  }
 ],
 "metadata": {
  "interpreter": {
   "hash": "970aefe1643e25215bd188e5cff924e8f6ab862e4d6e8acd97212707c0cddf25"
  },
  "kernelspec": {
   "display_name": "Python 3.8.12 64-bit ('box-packing-PHMK9_Il-py3.8': poetry)",
   "language": "python",
   "name": "python3"
  },
  "language_info": {
   "codemirror_mode": {
    "name": "ipython",
    "version": 3
   },
   "file_extension": ".py",
   "mimetype": "text/x-python",
   "name": "python",
   "nbconvert_exporter": "python",
   "pygments_lexer": "ipython3",
   "version": "3.10.2"
  },
  "orig_nbformat": 4
 },
 "nbformat": 4,
 "nbformat_minor": 2
}
