{
 "cells": [
  {
   "cell_type": "markdown",
   "metadata": {},
   "source": [
    "# Testing\n",
    "\n",
    "No real code here, clean up when done."
   ]
  },
  {
   "cell_type": "code",
   "execution_count": 1,
   "metadata": {},
   "outputs": [],
   "source": [
    "import csv\n",
    "import pandas as pd\n",
    "import sqlite3\n",
    "import random"
   ]
  },
  {
   "cell_type": "code",
   "execution_count": 2,
   "metadata": {},
   "outputs": [],
   "source": [
    "df = pd.read_csv('new_apartments.csv')\n",
    "apts = df.to_dict()\n",
    "records = df.to_dict('records')\n",
    "columns = list(apts.keys())"
   ]
  },
  {
   "cell_type": "code",
   "execution_count": 17,
   "metadata": {},
   "outputs": [
    {
     "name": "stdout",
     "output_type": "stream",
     "text": [
      "insert into apartments.apartments values (1, 'Windsor Westbridge', '2300 Marsh Ln, Carrollton, TX 75006', 'https://www.apartments.com/windsor-westbridge-carrollton-tx/jmxtw14/');\n",
      "insert into apartments.apartments values (2, '16301 Ledgemont Ln', '16301 Ledgemont Ln, Addison, TX 75001', 'https://www.apartments.com/16301-ledgemont-ln-addison-tx/66e3ets/');\n",
      "insert into apartments.apartments values (3, 'Bent Tree Trails', '16300 Ledgemenont Ln, Addison, TX 75001', 'https://www.apartments.com/bent-tree-trails-addison-tx/k8cf7s8/');\n",
      "insert into apartments.apartments values (4, 'MAA Addison Circle', '5009 Addison Cir, Addison, TX 75001', 'https://www.apartments.com/maa-addison-circle-addison-tx/39b587f/');\n",
      "insert into apartments.apartments values (5, 'Woods at Lakeshore', '3560 Country Square Dr, Carrollton, TX 75006', 'https://www.apartments.com/woods-at-lakeshore-carrollton-tx/bgc3k19/');\n",
      "insert into apartments.apartments values (6, 'Lakehill Townhomes', '2610 Lakehill Ln, Carrollton, TX 75006', 'https://www.apartments.com/lakehill-townhomes-carrollton-tx/7nnr49y/');\n",
      "insert into apartments.apartments values (7, 'Huntington Cove Townhomes', '14802 Enterprise Dr, Farmers Branch, TX 75234', 'https://www.apartments.com/huntington-cove-townhomes-farmers-branch-tx/lr2mtbd/');\n",
      "insert into apartments.apartments values (8, 'Jade Addison', '3721 Spring Valley Rd, Addison, TX 75001', 'https://www.apartments.com/jade-addison-addison-tx/rb6wv72/');\n"
     ]
    }
   ],
   "source": [
    "for i, apt in enumerate(zip(apts['name'].values(), apts['address'].values(), apts['url'].values()), start=1):\n",
    "    print(f\"insert into apartments.apartments values ({i}, '{apt[0]}', '{apt[1]}', '{apt[2]}');\")"
   ]
  },
  {
   "cell_type": "code",
   "execution_count": 10,
   "metadata": {},
   "outputs": [
    {
     "data": {
      "text/plain": [
       "{'name': {0: 'Windsor Westbridge',\n",
       "  1: '16301 Ledgemont Ln',\n",
       "  2: 'Bent Tree Trails',\n",
       "  3: 'MAA Addison Circle',\n",
       "  4: 'Woods at Lakeshore',\n",
       "  5: 'Lakehill Townhomes',\n",
       "  6: 'Huntington Cove Townhomes',\n",
       "  7: 'Jade Addison'},\n",
       " 'address': {0: '2300 Marsh Ln, Carrollton, TX 75006',\n",
       "  1: '16301 Ledgemont Ln, Addison, TX 75001',\n",
       "  2: '16300 Ledgemenont Ln, Addison, TX 75001',\n",
       "  3: '5009 Addison Cir, Addison, TX 75001',\n",
       "  4: '3560 Country Square Dr, Carrollton, TX 75006',\n",
       "  5: '2610 Lakehill Ln, Carrollton, TX 75006',\n",
       "  6: '14802 Enterprise Dr, Farmers Branch, TX 75234',\n",
       "  7: '3721 Spring Valley Rd, Addison, TX 75001'},\n",
       " 'url': {0: 'https://www.apartments.com/windsor-westbridge-carrollton-tx/jmxtw14/',\n",
       "  1: 'https://www.apartments.com/16301-ledgemont-ln-addison-tx/66e3ets/',\n",
       "  2: 'https://www.apartments.com/bent-tree-trails-addison-tx/k8cf7s8/',\n",
       "  3: 'https://www.apartments.com/maa-addison-circle-addison-tx/39b587f/',\n",
       "  4: 'https://www.apartments.com/woods-at-lakeshore-carrollton-tx/bgc3k19/',\n",
       "  5: 'https://www.apartments.com/lakehill-townhomes-carrollton-tx/7nnr49y/',\n",
       "  6: 'https://www.apartments.com/huntington-cove-townhomes-farmers-branch-tx/lr2mtbd/',\n",
       "  7: 'https://www.apartments.com/jade-addison-addison-tx/rb6wv72/'},\n",
       " 'year': {0: nan, 1: nan, 2: nan, 3: nan, 4: nan, 5: nan, 6: nan, 7: nan},\n",
       " 'rent': {0: nan, 1: nan, 2: nan, 3: nan, 4: nan, 5: nan, 6: nan, 7: nan},\n",
       " 'sqft': {0: nan, 1: nan, 2: nan, 3: nan, 4: nan, 5: nan, 6: nan, 7: nan},\n",
       " 'price_per': {0: nan, 1: nan, 2: nan, 3: nan, 4: nan, 5: nan, 6: nan, 7: nan},\n",
       " 'pet_rent': {0: nan, 1: nan, 2: nan, 3: nan, 4: nan, 5: nan, 6: nan, 7: nan},\n",
       " 'pet_deposit': {0: nan,\n",
       "  1: nan,\n",
       "  2: nan,\n",
       "  3: nan,\n",
       "  4: nan,\n",
       "  5: nan,\n",
       "  6: nan,\n",
       "  7: nan},\n",
       " 'fees': {0: nan, 1: nan, 2: nan, 3: nan, 4: nan, 5: nan, 6: nan, 7: nan},\n",
       " 'dishwasher': {0: nan,\n",
       "  1: nan,\n",
       "  2: nan,\n",
       "  3: nan,\n",
       "  4: nan,\n",
       "  5: nan,\n",
       "  6: nan,\n",
       "  7: nan},\n",
       " 'washer_dryer': {0: nan,\n",
       "  1: nan,\n",
       "  2: nan,\n",
       "  3: nan,\n",
       "  4: nan,\n",
       "  5: nan,\n",
       "  6: nan,\n",
       "  7: nan},\n",
       " 'countertops': {0: nan,\n",
       "  1: nan,\n",
       "  2: nan,\n",
       "  3: nan,\n",
       "  4: nan,\n",
       "  5: nan,\n",
       "  6: nan,\n",
       "  7: nan},\n",
       " 'floor_level': {0: nan,\n",
       "  1: nan,\n",
       "  2: nan,\n",
       "  3: nan,\n",
       "  4: nan,\n",
       "  5: nan,\n",
       "  6: nan,\n",
       "  7: nan},\n",
       " 'dog_walking': {0: nan,\n",
       "  1: nan,\n",
       "  2: nan,\n",
       "  3: nan,\n",
       "  4: nan,\n",
       "  5: nan,\n",
       "  6: nan,\n",
       "  7: nan},\n",
       " 'dog_park': {0: nan, 1: nan, 2: nan, 3: nan, 4: nan, 5: nan, 6: nan, 7: nan},\n",
       " 'groceries': {0: nan, 1: nan, 2: nan, 3: nan, 4: nan, 5: nan, 6: nan, 7: nan},\n",
       " 'costco': {0: nan, 1: nan, 2: nan, 3: nan, 4: nan, 5: nan, 6: nan, 7: nan},\n",
       " 'gym': {0: nan, 1: nan, 2: nan, 3: nan, 4: nan, 5: nan, 6: nan, 7: nan},\n",
       " 'apt_gym': {0: nan, 1: nan, 2: nan, 3: nan, 4: nan, 5: nan, 6: nan, 7: nan},\n",
       " 'quiet_ac': {0: nan, 1: nan, 2: nan, 3: nan, 4: nan, 5: nan, 6: nan, 7: nan},\n",
       " 'ac_filter_can_change': {0: nan,\n",
       "  1: nan,\n",
       "  2: nan,\n",
       "  3: nan,\n",
       "  4: nan,\n",
       "  5: nan,\n",
       "  6: nan,\n",
       "  7: nan},\n",
       " 'parking': {0: nan, 1: nan, 2: nan, 3: nan, 4: nan, 5: nan, 6: nan, 7: nan},\n",
       " 'smart_thermostat': {0: nan,\n",
       "  1: nan,\n",
       "  2: nan,\n",
       "  3: nan,\n",
       "  4: nan,\n",
       "  5: nan,\n",
       "  6: nan,\n",
       "  7: nan},\n",
       " 'electronic_lock': {0: nan,\n",
       "  1: nan,\n",
       "  2: nan,\n",
       "  3: nan,\n",
       "  4: nan,\n",
       "  5: nan,\n",
       "  6: nan,\n",
       "  7: nan},\n",
       " 'trails': {0: nan, 1: nan, 2: nan, 3: nan, 4: nan, 5: nan, 6: nan, 7: nan},\n",
       " 'bike_lanes': {0: nan,\n",
       "  1: nan,\n",
       "  2: nan,\n",
       "  3: nan,\n",
       "  4: nan,\n",
       "  5: nan,\n",
       "  6: nan,\n",
       "  7: nan},\n",
       " 'to_work': {0: nan, 1: nan, 2: nan, 3: nan, 4: nan, 5: nan, 6: nan, 7: nan},\n",
       " 'toll_road': {0: nan, 1: nan, 2: nan, 3: nan, 4: nan, 5: nan, 6: nan, 7: nan},\n",
       " 'walk_in_closet': {0: nan,\n",
       "  1: nan,\n",
       "  2: nan,\n",
       "  3: nan,\n",
       "  4: nan,\n",
       "  5: nan,\n",
       "  6: nan,\n",
       "  7: nan},\n",
       " 'ceiling_fans': {0: nan,\n",
       "  1: nan,\n",
       "  2: nan,\n",
       "  3: nan,\n",
       "  4: nan,\n",
       "  5: nan,\n",
       "  6: nan,\n",
       "  7: nan},\n",
       " 'guest_parking': {0: nan,\n",
       "  1: nan,\n",
       "  2: nan,\n",
       "  3: nan,\n",
       "  4: nan,\n",
       "  5: nan,\n",
       "  6: nan,\n",
       "  7: nan},\n",
       " 'speed_bumps': {0: nan,\n",
       "  1: nan,\n",
       "  2: nan,\n",
       "  3: nan,\n",
       "  4: nan,\n",
       "  5: nan,\n",
       "  6: nan,\n",
       "  7: nan},\n",
       " 'notes': {0: nan, 1: nan, 2: nan, 3: nan, 4: nan, 5: nan, 6: nan, 7: nan}}"
      ]
     },
     "execution_count": 10,
     "metadata": {},
     "output_type": "execute_result"
    }
   ],
   "source": [
    "apts"
   ]
  },
  {
   "cell_type": "code",
   "execution_count": null,
   "metadata": {},
   "outputs": [],
   "source": []
  },
  {
   "cell_type": "code",
   "execution_count": null,
   "metadata": {},
   "outputs": [],
   "source": []
  },
  {
   "cell_type": "code",
   "execution_count": null,
   "metadata": {},
   "outputs": [],
   "source": []
  },
  {
   "cell_type": "code",
   "execution_count": null,
   "metadata": {},
   "outputs": [],
   "source": []
  },
  {
   "cell_type": "code",
   "execution_count": null,
   "metadata": {},
   "outputs": [],
   "source": []
  }
 ],
 "metadata": {
  "interpreter": {
   "hash": "970aefe1643e25215bd188e5cff924e8f6ab862e4d6e8acd97212707c0cddf25"
  },
  "kernelspec": {
   "display_name": "Python 3.8.12 64-bit ('box-packing-PHMK9_Il-py3.8': poetry)",
   "language": "python",
   "name": "python3"
  },
  "language_info": {
   "codemirror_mode": {
    "name": "ipython",
    "version": 3
   },
   "file_extension": ".py",
   "mimetype": "text/x-python",
   "name": "python",
   "nbconvert_exporter": "python",
   "pygments_lexer": "ipython3",
   "version": "3.10.2"
  },
  "orig_nbformat": 4
 },
 "nbformat": 4,
 "nbformat_minor": 2
}
