{
 "cells": [
  {
   "cell_type": "code",
   "execution_count": 2,
   "metadata": {},
   "outputs": [],
   "source": [
    "from datetime import datetime"
   ]
  },
  {
   "cell_type": "code",
   "execution_count": 20,
   "metadata": {},
   "outputs": [
    {
     "name": "stdout",
     "output_type": "stream",
     "text": [
      "subtractions 14\n"
     ]
    }
   ],
   "source": [
    "some_date = datetime(2021, 12, 25, 22, 35, 16, 170207)\n",
    "\n",
    "def update_priority(add_date):\n",
    "    days = (datetime.now() - add_date).days\n",
    "    subtractions = 0\n",
    "    q, r = divmod(days, 7)\n",
    "    if q > 0 and r == 0:\n",
    "        # Do the work here but in the db\n",
    "        print('subtract')\n",
    "update_priority(some_date)"
   ]
  },
  {
   "cell_type": "code",
   "execution_count": null,
   "metadata": {},
   "outputs": [],
   "source": []
  },
  {
   "cell_type": "code",
   "execution_count": 1,
   "metadata": {},
   "outputs": [
    {
     "data": {
      "text/plain": [
       "(3, 2)"
      ]
     },
     "execution_count": 1,
     "metadata": {},
     "output_type": "execute_result"
    }
   ],
   "source": [
    "q, r = divmod(23, 7)"
   ]
  },
  {
   "cell_type": "code",
   "execution_count": 137,
   "metadata": {},
   "outputs": [],
   "source": [
    "d = DB(conn)"
   ]
  },
  {
   "cell_type": "code",
   "execution_count": 135,
   "metadata": {},
   "outputs": [
    {
     "data": {
      "text/html": [
       "<div>\n",
       "<style scoped>\n",
       "    .dataframe tbody tr th:only-of-type {\n",
       "        vertical-align: middle;\n",
       "    }\n",
       "\n",
       "    .dataframe tbody tr th {\n",
       "        vertical-align: top;\n",
       "    }\n",
       "\n",
       "    .dataframe thead th {\n",
       "        text-align: right;\n",
       "    }\n",
       "</style>\n",
       "<table border=\"1\" class=\"dataframe\">\n",
       "  <thead>\n",
       "    <tr style=\"text-align: right;\">\n",
       "      <th></th>\n",
       "      <th>name</th>\n",
       "      <th>category</th>\n",
       "      <th>subcategory1</th>\n",
       "      <th>subcategory2</th>\n",
       "      <th>priority</th>\n",
       "      <th>add_date</th>\n",
       "      <th>complete_date</th>\n",
       "    </tr>\n",
       "    <tr>\n",
       "      <th>id</th>\n",
       "      <th></th>\n",
       "      <th></th>\n",
       "      <th></th>\n",
       "      <th></th>\n",
       "      <th></th>\n",
       "      <th></th>\n",
       "      <th></th>\n",
       "    </tr>\n",
       "  </thead>\n",
       "  <tbody>\n",
       "    <tr>\n",
       "      <th>9</th>\n",
       "      <td>task9</td>\n",
       "      <td>computer</td>\n",
       "      <td>None</td>\n",
       "      <td>None</td>\n",
       "      <td>0</td>\n",
       "      <td>2022-04-01 22:49:56.769624-06:00</td>\n",
       "      <td>None</td>\n",
       "    </tr>\n",
       "    <tr>\n",
       "      <th>10</th>\n",
       "      <td>task10</td>\n",
       "      <td>work</td>\n",
       "      <td>None</td>\n",
       "      <td>None</td>\n",
       "      <td>1</td>\n",
       "      <td>2022-04-01 22:49:56.769624-06:00</td>\n",
       "      <td>None</td>\n",
       "    </tr>\n",
       "    <tr>\n",
       "      <th>1</th>\n",
       "      <td>task1</td>\n",
       "      <td>computer</td>\n",
       "      <td>None</td>\n",
       "      <td>None</td>\n",
       "      <td>10</td>\n",
       "      <td>2022-04-01 22:49:56.769624-06:00</td>\n",
       "      <td>None</td>\n",
       "    </tr>\n",
       "    <tr>\n",
       "      <th>6</th>\n",
       "      <td>task6</td>\n",
       "      <td>chore</td>\n",
       "      <td>None</td>\n",
       "      <td>None</td>\n",
       "      <td>13</td>\n",
       "      <td>2022-04-01 22:49:56.769624-06:00</td>\n",
       "      <td>None</td>\n",
       "    </tr>\n",
       "    <tr>\n",
       "      <th>2</th>\n",
       "      <td>task2</td>\n",
       "      <td>computer</td>\n",
       "      <td>None</td>\n",
       "      <td>None</td>\n",
       "      <td>15</td>\n",
       "      <td>2022-04-01 22:49:56.769624-06:00</td>\n",
       "      <td>None</td>\n",
       "    </tr>\n",
       "  </tbody>\n",
       "</table>\n",
       "</div>"
      ],
      "text/plain": [
       "      name  category subcategory1 subcategory2  priority  \\\n",
       "id                                                         \n",
       "9    task9  computer         None         None         0   \n",
       "10  task10      work         None         None         1   \n",
       "1    task1  computer         None         None        10   \n",
       "6    task6     chore         None         None        13   \n",
       "2    task2  computer         None         None        15   \n",
       "\n",
       "                           add_date complete_date  \n",
       "id                                                 \n",
       "9  2022-04-01 22:49:56.769624-06:00          None  \n",
       "10 2022-04-01 22:49:56.769624-06:00          None  \n",
       "1  2022-04-01 22:49:56.769624-06:00          None  \n",
       "6  2022-04-01 22:49:56.769624-06:00          None  \n",
       "2  2022-04-01 22:49:56.769624-06:00          None  "
      ]
     },
     "execution_count": 135,
     "metadata": {},
     "output_type": "execute_result"
    }
   ],
   "source": [
    "d.daily_5_tasks()"
   ]
  },
  {
   "cell_type": "code",
   "execution_count": 120,
   "metadata": {},
   "outputs": [],
   "source": [
    "task1 = Task('new task', 'financial', None, None, 20, datetime.utcnow(), None)"
   ]
  },
  {
   "cell_type": "code",
   "execution_count": 121,
   "metadata": {},
   "outputs": [],
   "source": [
    "d.add_task(task1)"
   ]
  },
  {
   "cell_type": "code",
   "execution_count": 127,
   "metadata": {},
   "outputs": [
    {
     "data": {
      "text/plain": [
       "[(11,\n",
       "  'new task',\n",
       "  'financial',\n",
       "  None,\n",
       "  None,\n",
       "  20,\n",
       "  datetime.datetime(2022, 4, 2, 2, 4, 14, 778625, tzinfo=datetime.timezone(datetime.timedelta(days=-1, seconds=64800))),\n",
       "  None),\n",
       " (12,\n",
       "  'new task',\n",
       "  'financial',\n",
       "  None,\n",
       "  None,\n",
       "  20,\n",
       "  datetime.datetime(2022, 4, 2, 2, 24, 30, 993332, tzinfo=datetime.timezone(datetime.timedelta(days=-1, seconds=64800))),\n",
       "  None),\n",
       " (13,\n",
       "  'new task',\n",
       "  'financial',\n",
       "  None,\n",
       "  None,\n",
       "  20,\n",
       "  datetime.datetime(2022, 4, 2, 2, 26, 16, 24248, tzinfo=datetime.timezone(datetime.timedelta(days=-1, seconds=64800))),\n",
       "  None),\n",
       " (14,\n",
       "  'new task',\n",
       "  'financial',\n",
       "  None,\n",
       "  None,\n",
       "  20,\n",
       "  datetime.datetime(2022, 4, 2, 2, 27, 44, 2659, tzinfo=datetime.timezone(datetime.timedelta(days=-1, seconds=64800))),\n",
       "  None),\n",
       " (15,\n",
       "  'new task',\n",
       "  'financial',\n",
       "  None,\n",
       "  None,\n",
       "  20,\n",
       "  datetime.datetime(2022, 4, 2, 2, 29, 18, 170860, tzinfo=datetime.timezone(datetime.timedelta(days=-1, seconds=64800))),\n",
       "  None)]"
      ]
     },
     "execution_count": 127,
     "metadata": {},
     "output_type": "execute_result"
    }
   ],
   "source": [
    "c = d._execute(\"select * from tasks where name = 'new task';\")\n",
    "c.fetchall()"
   ]
  },
  {
   "cell_type": "code",
   "execution_count": 128,
   "metadata": {},
   "outputs": [
    {
     "name": "stdout",
     "output_type": "stream",
     "text": [
      "(3, 'task3', 'computer', None, None, 8, datetime.datetime(2022, 4, 1, 22, 49, 56, 769624, tzinfo=datetime.timezone(datetime.timedelta(days=-1, seconds=64800))), None)\n",
      "(3, 'task3', 'computer', None, None, 8, datetime.datetime(2022, 4, 1, 22, 49, 56, 769624, tzinfo=datetime.timezone(datetime.timedelta(days=-1, seconds=64800))), datetime.datetime(2022, 4, 2, 1, 30, 9, 465101, tzinfo=datetime.timezone(datetime.timedelta(days=-1, seconds=64800))))\n"
     ]
    }
   ],
   "source": [
    "d.complete_task(3)"
   ]
  },
  {
   "cell_type": "code",
   "execution_count": 129,
   "metadata": {},
   "outputs": [
    {
     "data": {
      "text/html": [
       "<div>\n",
       "<style scoped>\n",
       "    .dataframe tbody tr th:only-of-type {\n",
       "        vertical-align: middle;\n",
       "    }\n",
       "\n",
       "    .dataframe tbody tr th {\n",
       "        vertical-align: top;\n",
       "    }\n",
       "\n",
       "    .dataframe thead th {\n",
       "        text-align: right;\n",
       "    }\n",
       "</style>\n",
       "<table border=\"1\" class=\"dataframe\">\n",
       "  <thead>\n",
       "    <tr style=\"text-align: right;\">\n",
       "      <th></th>\n",
       "      <th>name</th>\n",
       "      <th>category</th>\n",
       "      <th>subcategory1</th>\n",
       "      <th>subcategory2</th>\n",
       "      <th>priority</th>\n",
       "      <th>add_date</th>\n",
       "      <th>complete_date</th>\n",
       "    </tr>\n",
       "    <tr>\n",
       "      <th>id</th>\n",
       "      <th></th>\n",
       "      <th></th>\n",
       "      <th></th>\n",
       "      <th></th>\n",
       "      <th></th>\n",
       "      <th></th>\n",
       "      <th></th>\n",
       "    </tr>\n",
       "  </thead>\n",
       "  <tbody>\n",
       "    <tr>\n",
       "      <th>9</th>\n",
       "      <td>task9</td>\n",
       "      <td>computer</td>\n",
       "      <td>None</td>\n",
       "      <td>None</td>\n",
       "      <td>0</td>\n",
       "      <td>2022-04-01 22:49:56.769624-06:00</td>\n",
       "      <td>NaT</td>\n",
       "    </tr>\n",
       "    <tr>\n",
       "      <th>10</th>\n",
       "      <td>task10</td>\n",
       "      <td>work</td>\n",
       "      <td>None</td>\n",
       "      <td>None</td>\n",
       "      <td>1</td>\n",
       "      <td>2022-04-01 22:49:56.769624-06:00</td>\n",
       "      <td>NaT</td>\n",
       "    </tr>\n",
       "    <tr>\n",
       "      <th>3</th>\n",
       "      <td>task3</td>\n",
       "      <td>computer</td>\n",
       "      <td>None</td>\n",
       "      <td>None</td>\n",
       "      <td>8</td>\n",
       "      <td>2022-04-01 22:49:56.769624-06:00</td>\n",
       "      <td>2022-04-02 01:30:09.465101-06:00</td>\n",
       "    </tr>\n",
       "    <tr>\n",
       "      <th>1</th>\n",
       "      <td>task1</td>\n",
       "      <td>computer</td>\n",
       "      <td>None</td>\n",
       "      <td>None</td>\n",
       "      <td>10</td>\n",
       "      <td>2022-04-01 22:49:56.769624-06:00</td>\n",
       "      <td>NaT</td>\n",
       "    </tr>\n",
       "    <tr>\n",
       "      <th>6</th>\n",
       "      <td>task6</td>\n",
       "      <td>chore</td>\n",
       "      <td>None</td>\n",
       "      <td>None</td>\n",
       "      <td>13</td>\n",
       "      <td>2022-04-01 22:49:56.769624-06:00</td>\n",
       "      <td>NaT</td>\n",
       "    </tr>\n",
       "  </tbody>\n",
       "</table>\n",
       "</div>"
      ],
      "text/plain": [
       "      name  category subcategory1 subcategory2  priority  \\\n",
       "id                                                         \n",
       "9    task9  computer         None         None         0   \n",
       "10  task10      work         None         None         1   \n",
       "3    task3  computer         None         None         8   \n",
       "1    task1  computer         None         None        10   \n",
       "6    task6     chore         None         None        13   \n",
       "\n",
       "                           add_date                    complete_date  \n",
       "id                                                                    \n",
       "9  2022-04-01 22:49:56.769624-06:00                              NaT  \n",
       "10 2022-04-01 22:49:56.769624-06:00                              NaT  \n",
       "3  2022-04-01 22:49:56.769624-06:00 2022-04-02 01:30:09.465101-06:00  \n",
       "1  2022-04-01 22:49:56.769624-06:00                              NaT  \n",
       "6  2022-04-01 22:49:56.769624-06:00                              NaT  "
      ]
     },
     "execution_count": 129,
     "metadata": {},
     "output_type": "execute_result"
    }
   ],
   "source": [
    "d.daily_5_tasks()"
   ]
  },
  {
   "cell_type": "code",
   "execution_count": 138,
   "metadata": {},
   "outputs": [
    {
     "data": {
      "text/html": [
       "<div>\n",
       "<style scoped>\n",
       "    .dataframe tbody tr th:only-of-type {\n",
       "        vertical-align: middle;\n",
       "    }\n",
       "\n",
       "    .dataframe tbody tr th {\n",
       "        vertical-align: top;\n",
       "    }\n",
       "\n",
       "    .dataframe thead th {\n",
       "        text-align: right;\n",
       "    }\n",
       "</style>\n",
       "<table border=\"1\" class=\"dataframe\">\n",
       "  <thead>\n",
       "    <tr style=\"text-align: right;\">\n",
       "      <th></th>\n",
       "      <th>name</th>\n",
       "      <th>category</th>\n",
       "      <th>subcategory1</th>\n",
       "      <th>subcategory2</th>\n",
       "      <th>priority</th>\n",
       "      <th>add_date</th>\n",
       "      <th>complete_date</th>\n",
       "    </tr>\n",
       "    <tr>\n",
       "      <th>id</th>\n",
       "      <th></th>\n",
       "      <th></th>\n",
       "      <th></th>\n",
       "      <th></th>\n",
       "      <th></th>\n",
       "      <th></th>\n",
       "      <th></th>\n",
       "    </tr>\n",
       "  </thead>\n",
       "  <tbody>\n",
       "    <tr>\n",
       "      <th>3</th>\n",
       "      <td>task3</td>\n",
       "      <td>computer</td>\n",
       "      <td>None</td>\n",
       "      <td>None</td>\n",
       "      <td>8</td>\n",
       "      <td>2022-04-01 22:49:56.769624-06:00</td>\n",
       "      <td>2022-04-02 01:30:09.465101-06:00</td>\n",
       "    </tr>\n",
       "  </tbody>\n",
       "</table>\n",
       "</div>"
      ],
      "text/plain": [
       "     name  category subcategory1 subcategory2  priority  \\\n",
       "id                                                        \n",
       "3   task3  computer         None         None         8   \n",
       "\n",
       "                           add_date                    complete_date  \n",
       "id                                                                    \n",
       "3  2022-04-01 22:49:56.769624-06:00 2022-04-02 01:30:09.465101-06:00  "
      ]
     },
     "execution_count": 138,
     "metadata": {},
     "output_type": "execute_result"
    }
   ],
   "source": [
    "d.completed_tasks()"
   ]
  },
  {
   "cell_type": "code",
   "execution_count": null,
   "metadata": {},
   "outputs": [],
   "source": []
  }
 ],
 "metadata": {
  "interpreter": {
   "hash": "1dba269d270b1359bbdfdf216230f5e5cf3aa254e3a1afb45deedb8300dbb9a2"
  },
  "kernelspec": {
   "display_name": "Python 3.10.1 ('.venv': poetry)",
   "language": "python",
   "name": "python3"
  },
  "language_info": {
   "codemirror_mode": {
    "name": "ipython",
    "version": 3
   },
   "file_extension": ".py",
   "mimetype": "text/x-python",
   "name": "python",
   "nbconvert_exporter": "python",
   "pygments_lexer": "ipython3",
   "version": "3.10.2"
  },
  "orig_nbformat": 4
 },
 "nbformat": 4,
 "nbformat_minor": 2
}
