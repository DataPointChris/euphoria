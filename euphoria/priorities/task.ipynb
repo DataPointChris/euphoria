{
 "cells": [
  {
   "cell_type": "code",
   "execution_count": 61,
   "metadata": {},
   "outputs": [],
   "source": [
    "from flask_sqlalchemy import SQLAlchemy\n",
    "from flask import Flask\n",
    "from datetime import datetime, timedelta, date, time\n",
    "import random\n",
    "# from sqlalchemy.orm import Session\n",
    "from sqlalchemy import select\n",
    "\n",
    "app = Flask(__name__)\n",
    "app.config['SQLALCHEMY_DATABASE_URI'] = 'sqlite:///task.db'\n",
    "app.config['SQLALCHEMY_TRACK_MODIFICATIONS'] = False\n",
    "db = SQLAlchemy(app)\n",
    "\n",
    "\n",
    "class Task(db.Model):\n",
    "    \"\"\"Data Model for Events Happening\"\"\"\n",
    "\n",
    "    __tablename__ = 'tasks'\n",
    "    id = db.Column(db.Integer, primary_key=True)\n",
    "    name = db.Column(db.String(64), index=False, unique=False, nullable=False)\n",
    "    category = db.Column(db.String(64), index=False, unique=False, nullable=True)\n",
    "    subcategory1 = db.Column(db.String(64), index=False, unique=False, nullable=True)\n",
    "    subcategory2 = db.Column(db.String(64), index=False, unique=False, nullable=True)\n",
    "    priority = db.Column(db.Integer, index=False, unique=False, nullable=False)\n",
    "    add_date = db.Column(db.DateTime, index=False, unique=False, nullable=False)\n",
    "    complete_date = db.Column(db.DateTime, index=False, unique=False, nullable=True)\n",
    "\n",
    "    def __repr__(self):\n",
    "        return f'''Task(name = {self.name}, category = {self.category},\n",
    "            subcategory1 = {self.subcategory1}, subcategory2 = {self.subcategory2},\n",
    "            priority = {self.priority}, \n",
    "            add_date = {self.add_date}, complete_date = {self.complete_date}\n",
    "            '''\n",
    "\n",
    "\n",
    "db.init_app(app)\n",
    "db.create_all()\n",
    "\n",
    "\n",
    "def add_fake_tasks(number):\n",
    "    for _ in range(number):\n",
    "        tstamp = datetime.utcnow() - timedelta(days=random.randint(0, 100))\n",
    "        completed = (tstamp + timedelta(days=random.randint(0, 100)), None, None, None)\n",
    "        task = {\n",
    "            'name': f'task {random.random()}',\n",
    "            'category': 'financial',\n",
    "            'subcategory1': None,\n",
    "            'subcategory2': None,\n",
    "            'priority': random.randint(0, 100),\n",
    "            'add_date': tstamp,\n",
    "            'complete_date': random.choice(completed),\n",
    "        }\n",
    "        db.session.add(Task(**task))\n",
    "    db.session.commit()\n",
    "\n",
    "\n",
    "add_fake_tasks(100)"
   ]
  },
  {
   "cell_type": "code",
   "execution_count": 62,
   "metadata": {},
   "outputs": [],
   "source": [
    "top_5_tasks = (\n",
    "        Task.query.filter(Task.complete_date.is_(None))\n",
    "        .order_by(Task.priority.asc(), Task.add_date.asc())\n",
    "        .limit(5)\n",
    "        .all()\n",
    "    )\n",
    "# print(top_5_tasks, end='\\n\\n')"
   ]
  },
  {
   "cell_type": "code",
   "execution_count": 63,
   "metadata": {},
   "outputs": [],
   "source": [
    "today = datetime.combine(date.today(), time())\n",
    "tomorrow = today + timedelta(days=1)"
   ]
  },
  {
   "cell_type": "code",
   "execution_count": 64,
   "metadata": {},
   "outputs": [
    {
     "name": "stdout",
     "output_type": "stream",
     "text": [
      "[(Task(name = task 0.301987250862889, category = financial,\n",
      "            subcategory1 = None, subcategory2 = None,\n",
      "            priority = 51, \n",
      "            add_date = 2021-12-26 02:47:34.676299, complete_date = 2022-04-04 02:47:34.676299\n",
      "            ,)]\n"
     ]
    }
   ],
   "source": [
    "print(\n",
    "    db.session.execute(\n",
    "        select(Task).where(Task.complete_date > today, Task.complete_date < tomorrow)\n",
    "    ).all()\n",
    ")"
   ]
  },
  {
   "cell_type": "code",
   "execution_count": null,
   "metadata": {},
   "outputs": [],
   "source": []
  },
  {
   "cell_type": "code",
   "execution_count": null,
   "metadata": {},
   "outputs": [],
   "source": []
  },
  {
   "cell_type": "code",
   "execution_count": null,
   "metadata": {},
   "outputs": [],
   "source": []
  },
  {
   "cell_type": "code",
   "execution_count": null,
   "metadata": {},
   "outputs": [],
   "source": []
  },
  {
   "cell_type": "code",
   "execution_count": null,
   "metadata": {},
   "outputs": [],
   "source": []
  },
  {
   "cell_type": "code",
   "execution_count": null,
   "metadata": {},
   "outputs": [],
   "source": []
  }
 ],
 "metadata": {
  "interpreter": {
   "hash": "1dba269d270b1359bbdfdf216230f5e5cf3aa254e3a1afb45deedb8300dbb9a2"
  },
  "kernelspec": {
   "display_name": "Python 3.10.1 ('.venv': poetry)",
   "language": "python",
   "name": "python3"
  },
  "language_info": {
   "codemirror_mode": {
    "name": "ipython",
    "version": 3
   },
   "file_extension": ".py",
   "mimetype": "text/x-python",
   "name": "python",
   "nbconvert_exporter": "python",
   "pygments_lexer": "ipython3",
   "version": "3.10.2"
  },
  "orig_nbformat": 4
 },
 "nbformat": 4,
 "nbformat_minor": 2
}
