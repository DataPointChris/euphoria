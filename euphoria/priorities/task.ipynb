{
 "cells": [
  {
   "cell_type": "code",
   "execution_count": 1,
   "metadata": {},
   "outputs": [],
   "source": [
    "%config IPCompleter.greedy=True"
   ]
  },
  {
   "cell_type": "code",
   "execution_count": 26,
   "metadata": {},
   "outputs": [],
   "source": [
    "from flask_sqlalchemy import SQLAlchemy\n",
    "from flask import Flask\n",
    "from datetime import datetime, timedelta, date, time\n",
    "import random\n",
    "import calendar\n",
    "\n",
    "# from sqlalchemy.orm import Session\n",
    "from sqlalchemy import select\n",
    "\n",
    "app = Flask(__name__)\n",
    "app.config['SQLALCHEMY_DATABASE_URI'] = 'sqlite:///task.db'\n",
    "app.config['SQLALCHEMY_TRACK_MODIFICATIONS'] = False\n",
    "db = SQLAlchemy(app)\n",
    "\n",
    "\n",
    "class Task(db.Model):\n",
    "    \"\"\"Data Model for Events Happening\"\"\"\n",
    "\n",
    "    __tablename__ = 'tasks'\n",
    "    id = db.Column(db.Integer, primary_key=True)\n",
    "    name = db.Column(db.String(64), index=False, unique=False, nullable=False)\n",
    "    category = db.Column(db.String(64), index=False, unique=False, nullable=True)\n",
    "    subcategory1 = db.Column(db.String(64), index=False, unique=False, nullable=True)\n",
    "    subcategory2 = db.Column(db.String(64), index=False, unique=False, nullable=True)\n",
    "    priority = db.Column(db.Integer, index=False, unique=False, nullable=False)\n",
    "    add_date = db.Column(db.DateTime, index=False, unique=False, nullable=False)\n",
    "    complete_date = db.Column(db.DateTime, index=False, unique=False, nullable=True)\n",
    "\n",
    "    def __repr__(self):\n",
    "        return f'''Task(name = {self.name}, category = {self.category},\n",
    "            subcategory1 = {self.subcategory1}, subcategory2 = {self.subcategory2},\n",
    "            priority = {self.priority}, \n",
    "            add_date = {self.add_date}, complete_date = {self.complete_date}\n",
    "            '''\n",
    "\n",
    "\n",
    "db.init_app(app)\n",
    "db.create_all()\n",
    "\n",
    "\n",
    "def add_fake_tasks(number):\n",
    "    for _ in range(number):\n",
    "        tstamp = datetime.utcnow() - timedelta(days=random.randint(0, 100))\n",
    "        completed = (tstamp + timedelta(days=random.randint(0, 100)), None, None, None)\n",
    "        task = {\n",
    "            'name': f'task {random.random()}',\n",
    "            'category': 'financial',\n",
    "            'subcategory1': None,\n",
    "            'subcategory2': None,\n",
    "            'priority': random.randint(0, 100),\n",
    "            'add_date': tstamp,\n",
    "            'complete_date': random.choice(completed),\n",
    "        }\n",
    "        db.session.add(Task(**task))\n",
    "    db.session.commit()\n",
    "\n",
    "\n",
    "add_fake_tasks(100)\n"
   ]
  },
  {
   "cell_type": "code",
   "execution_count": 27,
   "metadata": {},
   "outputs": [],
   "source": [
    "today = datetime.combine(date.today(), time())\n",
    "tomorrow = today + timedelta(days=1)\n",
    "yesterday = today - timedelta(days=1)\n",
    "previous_7 = today - timedelta(days=7)\n",
    "previous_30 = today - timedelta(days=30)\n",
    "week_start = datetime.combine(\n",
    "    date.fromisocalendar(today.year, today.isocalendar().week, 1), time()\n",
    ")\n",
    "week_end = week_start + timedelta(days=7)\n",
    "_month_days = calendar.monthrange(today.year, today.month)[1]\n",
    "month_start = datetime(today.year, today.month, 1)\n",
    "month_end = datetime(today.year, today.month, _month_days)\n",
    "year_start = datetime(today.year, 1, 1)\n",
    "year_end = datetime(today.year, 12, 31)"
   ]
  },
  {
   "cell_type": "code",
   "execution_count": 35,
   "metadata": {},
   "outputs": [],
   "source": [
    "completed = db.session.execute(\n",
    "    select(Task)\n",
    "    .where(Task.complete_date > month_start, Task.complete_date < month_end)\n",
    "    .order_by(Task.priority.asc(), Task.add_date.asc())\n",
    ").scalars().all()\n"
   ]
  },
  {
   "cell_type": "code",
   "execution_count": 36,
   "metadata": {},
   "outputs": [],
   "source": [
    "from collections import Counter"
   ]
  },
  {
   "cell_type": "code",
   "execution_count": 42,
   "metadata": {},
   "outputs": [
    {
     "data": {
      "text/plain": [
       "Counter({5: 76,\n",
       "         19: 3,\n",
       "         4: 2,\n",
       "         9: 3,\n",
       "         2: 4,\n",
       "         16: 2,\n",
       "         12: 2,\n",
       "         28: 1,\n",
       "         8: 4,\n",
       "         7: 3,\n",
       "         23: 1,\n",
       "         3: 2,\n",
       "         1: 1,\n",
       "         14: 3,\n",
       "         20: 1,\n",
       "         11: 3,\n",
       "         22: 2,\n",
       "         25: 1,\n",
       "         17: 2,\n",
       "         26: 2,\n",
       "         24: 2,\n",
       "         29: 1,\n",
       "         27: 1,\n",
       "         18: 1,\n",
       "         10: 2,\n",
       "         21: 1,\n",
       "         15: 1})"
      ]
     },
     "execution_count": 42,
     "metadata": {},
     "output_type": "execute_result"
    }
   ],
   "source": [
    "count = Counter(task.complete_date.day for task in completed)\n",
    "count"
   ]
  },
  {
   "cell_type": "code",
   "execution_count": 38,
   "metadata": {},
   "outputs": [],
   "source": [
    "x = count.keys()\n",
    "y = count.values()"
   ]
  },
  {
   "cell_type": "code",
   "execution_count": 39,
   "metadata": {},
   "outputs": [],
   "source": [
    "import base64\n",
    "from io import BytesIO\n",
    "from matplotlib import pyplot as plt\n",
    "from matplotlib.figure import Figure\n",
    "%matplotlib inline"
   ]
  },
  {
   "cell_type": "code",
   "execution_count": 40,
   "metadata": {},
   "outputs": [
    {
     "data": {
      "text/plain": [
       "<BarContainer object of 27 artists>"
      ]
     },
     "execution_count": 40,
     "metadata": {},
     "output_type": "execute_result"
    }
   ],
   "source": [
    "fig = Figure()\n",
    "ax = fig.subplots()\n",
    "ax.bar(x, y)\n"
   ]
  },
  {
   "cell_type": "code",
   "execution_count": 41,
   "metadata": {},
   "outputs": [
    {
     "data": {
      "text/plain": [
       "<BarContainer object of 27 artists>"
      ]
     },
     "execution_count": 41,
     "metadata": {},
     "output_type": "execute_result"
    },
    {
     "data": {
      "image/png": "[encoded data removed]",
      "text/plain": [
       "<Figure size 432x288 with 1 Axes>"
      ]
     },
     "metadata": {
      "needs_background": "light"
     },
     "output_type": "display_data"
    }
   ],
   "source": [
    "plt.bar(x, y)"
   ]
  },
  {
   "cell_type": "code",
   "execution_count": null,
   "metadata": {},
   "outputs": [],
   "source": []
  },
  {
   "cell_type": "code",
   "execution_count": null,
   "metadata": {},
   "outputs": [],
   "source": []
  },
  {
   "cell_type": "code",
   "execution_count": null,
   "metadata": {},
   "outputs": [],
   "source": []
  },
  {
   "cell_type": "code",
   "execution_count": null,
   "metadata": {},
   "outputs": [],
   "source": []
  },
  {
   "cell_type": "code",
   "execution_count": null,
   "metadata": {},
   "outputs": [],
   "source": []
  },
  {
   "cell_type": "code",
   "execution_count": null,
   "metadata": {},
   "outputs": [],
   "source": []
  },
  {
   "cell_type": "code",
   "execution_count": null,
   "metadata": {},
   "outputs": [],
   "source": []
  },
  {
   "cell_type": "code",
   "execution_count": null,
   "metadata": {},
   "outputs": [],
   "source": []
  }
 ],
 "metadata": {
  "interpreter": {
   "hash": "1dba269d270b1359bbdfdf216230f5e5cf3aa254e3a1afb45deedb8300dbb9a2"
  },
  "kernelspec": {
   "display_name": "Python 3 (ipykernel)",
   "language": "python",
   "name": "python3"
  },
  "language_info": {
   "codemirror_mode": {
    "name": "ipython",
    "version": 3
   },
   "file_extension": ".py",
   "mimetype": "text/x-python",
   "name": "python",
   "nbconvert_exporter": "python",
   "pygments_lexer": "ipython3",
   "version": "3.10.2"
  }
 },
 "nbformat": 4,
 "nbformat_minor": 2
}
