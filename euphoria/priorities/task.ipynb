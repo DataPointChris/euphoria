{
 "cells": [
  {
   "cell_type": "code",
   "execution_count": 1,
   "metadata": {},
   "outputs": [],
   "source": [
    "%config IPCompleter.greedy=True\n",
    "from collections import Counter"
   ]
  },
  {
   "cell_type": "code",
   "execution_count": 8,
   "metadata": {},
   "outputs": [],
   "source": [
    "from flask_sqlalchemy import SQLAlchemy\n",
    "from flask import Flask\n",
    "from datetime import datetime, timedelta, date, time\n",
    "import random\n",
    "import calendar\n",
    "\n",
    "# from sqlalchemy.orm import Session\n",
    "from sqlalchemy import select\n",
    "\n",
    "app = Flask(__name__)\n",
    "app.config['SQLALCHEMY_DATABASE_URI'] = 'sqlite:///:memory:'\n",
    "app.config['SQLALCHEMY_TRACK_MODIFICATIONS'] = False\n",
    "db = SQLAlchemy(app)\n",
    "\n",
    "\n",
    "class Task(db.Model):\n",
    "    \"\"\"Data Model for Events Happening\"\"\"\n",
    "\n",
    "    __tablename__ = 'tasks'\n",
    "    id = db.Column(db.Integer, primary_key=True)\n",
    "    name = db.Column(db.String(64), index=False, unique=False, nullable=False)\n",
    "    category = db.Column(db.String(64), index=False, unique=False, nullable=True)\n",
    "    subcategory1 = db.Column(db.String(64), index=False, unique=False, nullable=True)\n",
    "    subcategory2 = db.Column(db.String(64), index=False, unique=False, nullable=True)\n",
    "    priority = db.Column(db.Integer, index=False, unique=False, nullable=False)\n",
    "    add_date = db.Column(db.DateTime, index=False, unique=False, nullable=False)\n",
    "    complete_date = db.Column(db.DateTime, index=False, unique=False, nullable=True)\n",
    "\n",
    "    def __repr__(self):\n",
    "        return f'''Task(name = {self.name}, category = {self.category},\n",
    "            subcategory1 = {self.subcategory1}, subcategory2 = {self.subcategory2},\n",
    "            priority = {self.priority}, \n",
    "            add_date = {self.add_date}, complete_date = {self.complete_date}\n",
    "            '''\n",
    "\n",
    "\n",
    "db.init_app(app)\n",
    "db.create_all()\n",
    "\n",
    "\n",
    "def add_fake_tasks(number):\n",
    "    for _ in range(number):\n",
    "        tstamp = datetime.utcnow() - timedelta(days=random.randint(0, 100))\n",
    "        completed = (tstamp + timedelta(days=random.randint(0, 100)), None, None, None)\n",
    "        task = {\n",
    "            'name': f'task {random.random()}',\n",
    "            'category': 'financial',\n",
    "            'subcategory1': None,\n",
    "            'subcategory2': None,\n",
    "            'priority': random.randint(0, 100),\n",
    "            'add_date': tstamp,\n",
    "            'complete_date': random.choice(completed),\n",
    "        }\n",
    "        db.session.add(Task(**task))\n",
    "    db.session.commit()\n",
    "\n",
    "\n",
    "add_fake_tasks(500)\n"
   ]
  },
  {
   "cell_type": "code",
   "execution_count": 9,
   "metadata": {},
   "outputs": [],
   "source": [
    "today = datetime.combine(date.today(), time())\n",
    "tomorrow = today + timedelta(days=1)\n",
    "yesterday = today - timedelta(days=1)\n",
    "previous_7 = today - timedelta(days=7)\n",
    "previous_30 = today - timedelta(days=30)\n",
    "_month_days = calendar.monthrange(today.year, today.month)[1]\n",
    "week_number = today.isocalendar().week\n",
    "week_start = datetime.combine(date.fromisocalendar(today.year, week_number, 1), time())\n",
    "week_end = week_start + timedelta(days=7)\n",
    "this_month = datetime(today.year, today.month, 1)\n",
    "next_month = this_month + timedelta(days=_month_days)\n",
    "this_year = datetime(today.year, 1, 1)\n",
    "next_year = datetime(today.year + 1, 1, 1)\n"
   ]
  },
  {
   "cell_type": "code",
   "execution_count": 10,
   "metadata": {},
   "outputs": [],
   "source": [
    "completed = db.session.execute(\n",
    "    select(Task)\n",
    "    .where(Task.complete_date > this_month, Task.complete_date < next_month)\n",
    "    .order_by(Task.priority.asc(), Task.add_date.asc())\n",
    ").scalars().all()"
   ]
  },
  {
   "cell_type": "code",
   "execution_count": 11,
   "metadata": {},
   "outputs": [],
   "source": [
    "def datetimes_between_two_dates(start: datetime, end: datetime) -> datetime:\n",
    "    return [start + timedelta(days=x) for x in range((end - start).days)]"
   ]
  },
  {
   "cell_type": "code",
   "execution_count": 17,
   "metadata": {},
   "outputs": [],
   "source": [
    "dts = {dt: 0 for dt in datetimes_between_two_dates(this_month, next_month)}\n",
    "\n",
    "count = Counter(\n",
    "    datetime(\n",
    "        task.complete_date.year, task.complete_date.month, task.complete_date.day\n",
    "    )\n",
    "    for task in reversed(completed)\n",
    ")\n",
    "updated = {**dts, **count}"
   ]
  },
  {
   "cell_type": "code",
   "execution_count": null,
   "metadata": {},
   "outputs": [],
   "source": [
    "Counter(\n",
    "    datetime(\n",
    "        task.complete_date.year, task.complete_date.month, task.complete_date.day\n",
    "    )\n",
    "    for task in reversed(completed)\n",
    ")"
   ]
  },
  {
   "cell_type": "code",
   "execution_count": 36,
   "metadata": {},
   "outputs": [
    {
     "data": {
      "text/plain": [
       "datetime.datetime(2022, 4, 10, 7, 44, 47, 256726)"
      ]
     },
     "execution_count": 36,
     "metadata": {},
     "output_type": "execute_result"
    }
   ],
   "source": [
    "com = completed[0].complete_date\n",
    "com"
   ]
  },
  {
   "cell_type": "code",
   "execution_count": 42,
   "metadata": {},
   "outputs": [
    {
     "data": {
      "text/plain": [
       "datetime.time(0, 0)"
      ]
     },
     "execution_count": 42,
     "metadata": {},
     "output_type": "execute_result"
    }
   ],
   "source": [
    "time()"
   ]
  },
  {
   "cell_type": "code",
   "execution_count": 40,
   "metadata": {},
   "outputs": [
    {
     "ename": "TypeError",
     "evalue": "'datetime.datetime' object cannot be interpreted as an integer",
     "output_type": "error",
     "traceback": [
      "\u001b[0;31m---------------------------------------------------------------------------\u001b[0m",
      "\u001b[0;31mTypeError\u001b[0m                                 Traceback (most recent call last)",
      "\u001b[1;32m/Users/chris/euphoria/euphoria/priorities/task.ipynb Cell 9'\u001b[0m in \u001b[0;36m<module>\u001b[0;34m\u001b[0m\n\u001b[0;32m----> <a href='vscode-notebook-cell:/Users/chris/euphoria/euphoria/priorities/task.ipynb#ch0000022?line=0'>1</a>\u001b[0m date\u001b[39m.\u001b[39;49mfromtimestamp(datetime\u001b[39m.\u001b[39;49mcombine(com, time()))\n",
      "\u001b[0;31mTypeError\u001b[0m: 'datetime.datetime' object cannot be interpreted as an integer"
     ]
    }
   ],
   "source": [
    "date.fromtimestamp()"
   ]
  },
  {
   "cell_type": "code",
   "execution_count": 49,
   "metadata": {},
   "outputs": [
    {
     "data": {
      "text/plain": [
       "[401,\n",
       " 402,\n",
       " 403,\n",
       " 404,\n",
       " 405,\n",
       " 406,\n",
       " 407,\n",
       " 408,\n",
       " 409,\n",
       " 410,\n",
       " 411,\n",
       " 412,\n",
       " 413,\n",
       " 414,\n",
       " 415,\n",
       " 416,\n",
       " 417,\n",
       " 418,\n",
       " 419,\n",
       " 420,\n",
       " 421,\n",
       " 422,\n",
       " 423,\n",
       " 424,\n",
       " 425,\n",
       " 426,\n",
       " 427,\n",
       " 428,\n",
       " 429,\n",
       " 430]"
      ]
     },
     "execution_count": 49,
     "metadata": {},
     "output_type": "execute_result"
    }
   ],
   "source": [
    "labels = [datetime.strftime(dt, '%m/%d') for dt in updated]\n",
    "[int(label.replace('/', '')) for label in labels]"
   ]
  },
  {
   "cell_type": "code",
   "execution_count": 20,
   "metadata": {},
   "outputs": [
    {
     "data": {
      "text/plain": [
       "datetime.datetime(2000, 1, 1, 0, 0)"
      ]
     },
     "execution_count": 20,
     "metadata": {},
     "output_type": "execute_result"
    }
   ],
   "source": [
    "datetime(2000, 1, 1)"
   ]
  },
  {
   "cell_type": "code",
   "execution_count": 29,
   "metadata": {},
   "outputs": [
    {
     "data": {
      "text/plain": [
       "94"
      ]
     },
     "execution_count": 29,
     "metadata": {},
     "output_type": "execute_result"
    }
   ],
   "source": [
    "first_completed_task = (\n",
    "        db.session.execute(select(Task).where(Task.complete_date.is_not(None)).order_by(Task.complete_date.asc()))\n",
    "        .scalars()\n",
    "        .first()\n",
    "    )\n",
    "(tomorrow - first_completed_task.complete_date).days"
   ]
  },
  {
   "cell_type": "code",
   "execution_count": 31,
   "metadata": {},
   "outputs": [
    {
     "data": {
      "text/plain": [
       "datetime.datetime(2022, 1, 5, 7, 44, 47, 254913)"
      ]
     },
     "execution_count": 31,
     "metadata": {},
     "output_type": "execute_result"
    }
   ],
   "source": [
    "first_completed_task.complete_date"
   ]
  },
  {
   "cell_type": "code",
   "execution_count": null,
   "metadata": {},
   "outputs": [],
   "source": []
  }
 ],
 "metadata": {
  "interpreter": {
   "hash": "1dba269d270b1359bbdfdf216230f5e5cf3aa254e3a1afb45deedb8300dbb9a2"
  },
  "kernelspec": {
   "display_name": "Python 3 (ipykernel)",
   "language": "python",
   "name": "python3"
  },
  "language_info": {
   "codemirror_mode": {
    "name": "ipython",
    "version": 3
   },
   "file_extension": ".py",
   "mimetype": "text/x-python",
   "name": "python",
   "nbconvert_exporter": "python",
   "pygments_lexer": "ipython3",
   "version": "3.10.2"
  }
 },
 "nbformat": 4,
 "nbformat_minor": 2
}
