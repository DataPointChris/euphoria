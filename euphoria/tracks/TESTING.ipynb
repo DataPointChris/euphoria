{
 "cells": [
  {
   "cell_type": "markdown",
   "metadata": {},
   "source": [
    "# Testing Only\n",
    "\n",
    "No real code here, nothing of value.  Clean up when finished."
   ]
  },
  {
   "cell_type": "code",
   "execution_count": 78,
   "metadata": {},
   "outputs": [],
   "source": [
    "from sqlalchemy import (\n",
    "    create_engine,\n",
    "    select,\n",
    "    update,\n",
    "    delete,\n",
    "    Column,\n",
    "    String,\n",
    "    DateTime,\n",
    "    Float,\n",
    "    Integer,\n",
    "    Boolean,\n",
    "    Text,\n",
    "    Table,\n",
    "    MetaData\n",
    ")\n",
    "from sqlalchemy.orm import Session, declarative_base\n",
    "\n",
    "engine = create_engine(\"sqlite+pysqlite:///:memory:\", echo=True, future=True)\n",
    "Base = declarative_base()\n",
    "from sqlalchemy.orm import sessionmaker\n",
    "Session = sessionmaker(bind=engine)\n",
    "session = Session()"
   ]
  },
  {
   "cell_type": "code",
   "execution_count": 79,
   "metadata": {},
   "outputs": [
    {
     "name": "stdout",
     "output_type": "stream",
     "text": [
      "2022-02-14 17:18:54,487 INFO sqlalchemy.engine.Engine BEGIN (implicit)\n",
      "2022-02-14 17:18:54,487 INFO sqlalchemy.engine.Engine PRAGMA main.table_info(\"events\")\n",
      "2022-02-14 17:18:54,488 INFO sqlalchemy.engine.Engine [raw sql] ()\n",
      "2022-02-14 17:18:54,489 INFO sqlalchemy.engine.Engine PRAGMA temp.table_info(\"events\")\n",
      "2022-02-14 17:18:54,489 INFO sqlalchemy.engine.Engine [raw sql] ()\n",
      "2022-02-14 17:18:54,490 INFO sqlalchemy.engine.Engine \n",
      "CREATE TABLE events (\n",
      "\tid INTEGER NOT NULL, \n",
      "\tname VARCHAR(64) NOT NULL, \n",
      "\tcost FLOAT NOT NULL, \n",
      "\tattending BOOLEAN NOT NULL, \n",
      "\tnotes TEXT, \n",
      "\tPRIMARY KEY (id), \n",
      "\tUNIQUE (name)\n",
      ")\n",
      "\n",
      "\n",
      "2022-02-14 17:18:54,491 INFO sqlalchemy.engine.Engine [no key 0.00041s] ()\n",
      "2022-02-14 17:18:54,491 INFO sqlalchemy.engine.Engine COMMIT\n"
     ]
    }
   ],
   "source": [
    "class Event(Base):\n",
    "    \"\"\"Data Model for Events Happening\"\"\"\n",
    "\n",
    "    __tablename__ = 'events'\n",
    "    id = Column(Integer, primary_key=True)\n",
    "    name = Column(String(64), index=False, unique=True, nullable=False)\n",
    "    cost = Column(Float, index=False, unique=False, nullable=False)\n",
    "    attending = Column(Boolean, index=False, unique=False, nullable=False)\n",
    "    notes = Column(Text, index=False, unique=False, nullable=True)\n",
    "\n",
    "    def __repr__(self):\n",
    "        return f'Event(name={self.name}, cost={self.cost}, attending={self.attending}, notes={self.notes}'\n",
    "\n",
    "Base.metadata.create_all(engine)"
   ]
  },
  {
   "cell_type": "code",
   "execution_count": 80,
   "metadata": {},
   "outputs": [
    {
     "name": "stdout",
     "output_type": "stream",
     "text": [
      "2022-02-14 17:18:55,322 INFO sqlalchemy.engine.Engine BEGIN (implicit)\n",
      "2022-02-14 17:18:55,323 INFO sqlalchemy.engine.Engine INSERT INTO events (name, cost, attending, notes) VALUES (?, ?, ?, ?)\n",
      "2022-02-14 17:18:55,324 INFO sqlalchemy.engine.Engine [generated in 0.00060s] ('new name', 25.0, 1, 'notes')\n",
      "2022-02-14 17:18:55,324 INFO sqlalchemy.engine.Engine COMMIT\n"
     ]
    }
   ],
   "source": [
    "event = dict(\n",
    "    name='new name',\n",
    "    cost=25,\n",
    "    attending=True,\n",
    "    notes='notes',\n",
    ")\n",
    "session.add(Event(**event))\n",
    "session.commit()"
   ]
  },
  {
   "cell_type": "code",
   "execution_count": 81,
   "metadata": {},
   "outputs": [
    {
     "name": "stdout",
     "output_type": "stream",
     "text": [
      "2022-02-14 17:18:56,908 INFO sqlalchemy.engine.Engine BEGIN (implicit)\n",
      "2022-02-14 17:18:56,909 INFO sqlalchemy.engine.Engine UPDATE events SET name=?, cost=?, attending=?, notes=? WHERE events.name = ?\n",
      "2022-02-14 17:18:56,910 INFO sqlalchemy.engine.Engine [generated in 0.00077s] ('new name', 25.0, 1, 'adding more notesnotes', 'new name')\n",
      "2022-02-14 17:18:56,911 INFO sqlalchemy.engine.Engine COMMIT\n"
     ]
    }
   ],
   "source": [
    "event = dict(\n",
    "    name='new name',\n",
    "    cost=25,\n",
    "    attending=True,\n",
    "    notes='adding more notesnotes',\n",
    ")\n",
    "session.execute(\n",
    "                update(Event).where(Event.name == event.get('name')).values(**event))\n",
    "session.commit()"
   ]
  },
  {
   "cell_type": "code",
   "execution_count": 82,
   "metadata": {},
   "outputs": [
    {
     "name": "stdout",
     "output_type": "stream",
     "text": [
      "2022-02-14 17:18:58,212 INFO sqlalchemy.engine.Engine BEGIN (implicit)\n",
      "2022-02-14 17:18:58,213 INFO sqlalchemy.engine.Engine UPDATE events SET name=?, cost=?, attending=?, notes=? WHERE events.name = ?\n",
      "2022-02-14 17:18:58,214 INFO sqlalchemy.engine.Engine [cached since 1.304s ago] ('new name', 35.0, 1, 'aDD TONS OF NOTES', 'new name')\n",
      "2022-02-14 17:18:58,215 INFO sqlalchemy.engine.Engine COMMIT\n"
     ]
    }
   ],
   "source": [
    "event = dict(\n",
    "    name='new name',\n",
    "    cost=35,\n",
    "    attending=True,\n",
    "    notes='aDD TONS OF NOTES',\n",
    ")\n",
    "session.execute(\n",
    "                update(Event).where(Event.name == event.get('name')).values(**event))\n",
    "session.commit()"
   ]
  },
  {
   "cell_type": "code",
   "execution_count": 83,
   "metadata": {},
   "outputs": [
    {
     "name": "stdout",
     "output_type": "stream",
     "text": [
      "2022-02-14 17:18:59,979 INFO sqlalchemy.engine.Engine BEGIN (implicit)\n",
      "2022-02-14 17:18:59,981 INFO sqlalchemy.engine.Engine SELECT events.id AS events_id, events.name AS events_name, events.cost AS events_cost, events.attending AS events_attending, events.notes AS events_notes \n",
      "FROM events\n",
      "2022-02-14 17:18:59,982 INFO sqlalchemy.engine.Engine [generated in 0.00066s] ()\n",
      "Event(name=new name, cost=35.0, attending=True, notes=aDD TONS OF NOTES\n"
     ]
    }
   ],
   "source": [
    "for event in session.query(Event).all():\n",
    "    print(event)"
   ]
  },
  {
   "cell_type": "code",
   "execution_count": 85,
   "metadata": {},
   "outputs": [
    {
     "name": "stdout",
     "output_type": "stream",
     "text": [
      "2022-02-14 17:20:18,653 INFO sqlalchemy.engine.Engine DELETE FROM events WHERE events.name = ?\n",
      "2022-02-14 17:20:18,655 INFO sqlalchemy.engine.Engine [generated in 0.00126s] ('new name',)\n",
      "2022-02-14 17:20:18,657 INFO sqlalchemy.engine.Engine COMMIT\n"
     ]
    }
   ],
   "source": [
    "event = dict(\n",
    "    name='new name',\n",
    "    cost=35,\n",
    "    attending=True,\n",
    "    notes='aDD TONS OF NOTES',\n",
    ")\n",
    "session.execute(delete(Event).where(Event.name == event.get('name')))\n",
    "session.commit()\n"
   ]
  },
  {
   "cell_type": "code",
   "execution_count": 86,
   "metadata": {},
   "outputs": [
    {
     "name": "stdout",
     "output_type": "stream",
     "text": [
      "2022-02-14 17:20:27,671 INFO sqlalchemy.engine.Engine BEGIN (implicit)\n",
      "2022-02-14 17:20:27,672 INFO sqlalchemy.engine.Engine SELECT events.id AS events_id, events.name AS events_name, events.cost AS events_cost, events.attending AS events_attending, events.notes AS events_notes \n",
      "FROM events\n",
      "2022-02-14 17:20:27,673 INFO sqlalchemy.engine.Engine [cached since 87.69s ago] ()\n"
     ]
    }
   ],
   "source": [
    "for event in session.query(Event).all():\n",
    "    print(event)"
   ]
  },
  {
   "cell_type": "code",
   "execution_count": null,
   "metadata": {},
   "outputs": [],
   "source": []
  }
 ],
 "metadata": {
  "interpreter": {
   "hash": "c685c8cf59c6c08380b273a961e325366d2b5db1e16c9166e5284f3e44ecfd51"
  },
  "kernelspec": {
   "display_name": "Python 3.8.12 64-bit ('.venv': venv)",
   "language": "python",
   "name": "python3"
  },
  "language_info": {
   "codemirror_mode": {
    "name": "ipython",
    "version": 3
   },
   "file_extension": ".py",
   "mimetype": "text/x-python",
   "name": "python",
   "nbconvert_exporter": "python",
   "pygments_lexer": "ipython3",
   "version": "3.10.1"
  },
  "orig_nbformat": 4
 },
 "nbformat": 4,
 "nbformat_minor": 2
}
