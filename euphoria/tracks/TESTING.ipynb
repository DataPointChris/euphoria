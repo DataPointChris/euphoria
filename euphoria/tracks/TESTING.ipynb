{
 "cells": [
  {
   "cell_type": "markdown",
   "metadata": {},
   "source": [
    "# Testing Only\n",
    "\n",
    "No real code here, nothing of value.  Clean up when finished."
   ]
  },
  {
   "cell_type": "code",
   "execution_count": 10,
   "metadata": {},
   "outputs": [],
   "source": [
    "import pymongo\n",
    "client = pymongo.MongoClient(\"mongodb://127.0.0.1:27017\")\n",
    "db = client.tracks\n",
    "c = db.habits"
   ]
  },
  {
   "cell_type": "markdown",
   "metadata": {},
   "source": [
    "MUST RUN THIS ON PROD SERVER\n"
   ]
  },
  {
   "cell_type": "code",
   "execution_count": 11,
   "metadata": {},
   "outputs": [
    {
     "data": {
      "text/plain": [
       "{'_id': ObjectId('61a84334e1df3953afc5c16a'),\n",
       " 'id': 'master_habit_list',\n",
       " 'habits': {'Vipassana': {'checked': 0, 'category': 'exercise'},\n",
       "  'Python Hackerrank': {'checked': 0, 'category': 'computer'},\n",
       "  'SQL Hackerrank': {'checked': 0, 'category': 'computer'},\n",
       "  'SQL Vertabelo': {'checked': 0, 'category': 'computer'},\n",
       "  'Linux': {'checked': 0, 'category': 'computer'},\n",
       "  'Interview Question': {'checked': 0, 'category': 'general'},\n",
       "  'Project': {'checked': 0, 'category': 'computer'},\n",
       "  'CS Degree': {'checked': 0, 'category': 'computer'},\n",
       "  '50 Pushups': {'checked': 0, 'category': 'exercise'},\n",
       "  'OH Stretch': {'checked': 0, 'category': 'exercise'},\n",
       "  '50 Situps': {'checked': 0, 'category': 'exercise'},\n",
       "  '50 Squats': {'checked': 0, 'category': 'exercise'},\n",
       "  'Philosophy': {'checked': 0, 'category': 'general'},\n",
       "  'Exercise': {'checked': 0, 'category': 'exercise'},\n",
       "  'Yoga': {'checked': 0, 'category': 'health'},\n",
       "  'Protein Shake': {'checked': 0, 'category': 'health'},\n",
       "  'Eat Healthy': {'checked': 0, 'category': 'health'},\n",
       "  'Portion Control': {'checked': 0, 'category': 'health'},\n",
       "  'Textbook': {'checked': 0, 'category': 'computer'},\n",
       "  '50 Rows': {'checked': 0, 'category': 'exercise'},\n",
       "  'Clean Teeth': {'checked': 0, 'category': 'health'},\n",
       "  'Book': {'checked': 0, 'category': 'general'}}}"
      ]
     },
     "execution_count": 11,
     "metadata": {},
     "output_type": "execute_result"
    }
   ],
   "source": [
    "c.find_one({'id': 'master_habit_list'})"
   ]
  },
  {
   "cell_type": "code",
   "execution_count": 12,
   "metadata": {},
   "outputs": [
    {
     "data": {
      "text/plain": [
       "{'_id': ObjectId('61a84334e1df3953afc5c169'),\n",
       " 'id': 'current_habits',\n",
       " 'habits': {'Vipassana': {'checked': 0, 'category': 'exercise'},\n",
       "  'Python Hackerrank': {'checked': 0, 'category': 'computer'},\n",
       "  'SQL Hackerrank': {'checked': 0, 'category': 'computer'},\n",
       "  'SQL Vertabelo': {'checked': 0, 'category': 'computer'},\n",
       "  'Linux': {'checked': 0, 'category': 'computer'},\n",
       "  'Interview Question': {'checked': 0, 'category': 'general'},\n",
       "  'Project': {'checked': 0, 'category': 'computer'},\n",
       "  'CS Degree': {'checked': 0, 'category': 'computer'},\n",
       "  '50 Pushups': {'checked': 0, 'category': 'exercise'},\n",
       "  'OH Stretch': {'checked': 0, 'category': 'exercise'},\n",
       "  '50 Situps': {'checked': 0, 'category': 'exercise'},\n",
       "  '50 Squats': {'checked': 0, 'category': 'exercise'},\n",
       "  'Philosophy': {'checked': 0, 'category': 'general'},\n",
       "  'Exercise': {'checked': 0, 'category': 'exercise'},\n",
       "  'Yoga': {'checked': 0, 'category': 'health'},\n",
       "  'Protein Shake': {'checked': 0, 'category': 'health'},\n",
       "  'Eat Healthy': {'checked': 0, 'category': 'health'},\n",
       "  'Portion Control': {'checked': 0, 'category': 'health'},\n",
       "  'Textbook': {'checked': 0, 'category': 'computer'},\n",
       "  'Book': {'checked': 0, 'category': 'general'},\n",
       "  '50 Rows': {'checked': 0, 'category': 'exercise'},\n",
       "  'Clean Teeth': {'checked': 0, 'category': 'health'}}}"
      ]
     },
     "execution_count": 12,
     "metadata": {},
     "output_type": "execute_result"
    }
   ],
   "source": [
    "c.find_one({'id': 'current_habits'})"
   ]
  },
  {
   "cell_type": "code",
   "execution_count": 7,
   "metadata": {},
   "outputs": [
    {
     "data": {
      "text/plain": [
       "<pymongo.results.UpdateResult at 0x10ec7fb80>"
      ]
     },
     "execution_count": 7,
     "metadata": {},
     "output_type": "execute_result"
    }
   ],
   "source": [
    "name = 'Textbook'\n",
    "value = {'checked': 0, 'category': 'computer'}\n",
    "c.update_one({'id': 'master_habit_list'}, {'$set': {f'habits.{name}': value}})\n",
    "\n",
    "name = '50 Rows'\n",
    "value = {'checked': 0, 'category': 'exercise'}\n",
    "c.update_one({'id': 'master_habit_list'}, {'$set': {f'habits.{name}': value}})\n",
    "\n",
    "name = 'Clean Teeth'\n",
    "value = {'checked': 0, 'category': 'health'}\n",
    "c.update_one({'id': 'master_habit_list'}, {'$set': {f'habits.{name}': value}})\n",
    "\n",
    "name = 'Book'\n",
    "value = {'checked': 0, 'category': 'general'}\n",
    "c.update_one({'id': 'master_habit_list'}, {'$set': {f'habits.{name}': value}})\n",
    "\n",
    "name = 'Textbook'\n",
    "value = {'checked': 0, 'category': 'computer'}\n",
    "c.update_one({'id': 'current_habits'}, {'$set': {f'habits.{name}': value}})\n",
    "\n",
    "name = '50 Rows'\n",
    "value = {'checked': 0, 'category': 'exercise'}\n",
    "c.update_one({'id': 'current_habits'}, {'$set': {f'habits.{name}': value}})\n",
    "\n",
    "name = 'Clean Teeth'\n",
    "value = {'checked': 0, 'category': 'health'}\n",
    "c.update_one({'id': 'current_habits'}, {'$set': {f'habits.{name}': value}})\n",
    "\n",
    "name = 'Book'\n",
    "value = {'checked': 0, 'category': 'general'}\n",
    "c.update_one({'id': 'current_habits'}, {'$set': {f'habits.{name}': value}})\n"
   ]
  },
  {
   "cell_type": "code",
   "execution_count": 13,
   "metadata": {},
   "outputs": [
    {
     "data": {
      "text/plain": [
       "{'_id': ObjectId('61a84334e1df3953afc5c16a'),\n",
       " 'id': 'master_habit_list',\n",
       " 'habits': {'Vipassana': {'checked': 0, 'category': 'exercise'},\n",
       "  'Python Hackerrank': {'checked': 0, 'category': 'computer'},\n",
       "  'SQL Hackerrank': {'checked': 0, 'category': 'computer'},\n",
       "  'SQL Vertabelo': {'checked': 0, 'category': 'computer'},\n",
       "  'Linux': {'checked': 0, 'category': 'computer'},\n",
       "  'Interview Question': {'checked': 0, 'category': 'general'},\n",
       "  'Project': {'checked': 0, 'category': 'computer'},\n",
       "  'CS Degree': {'checked': 0, 'category': 'computer'},\n",
       "  '50 Pushups': {'checked': 0, 'category': 'exercise'},\n",
       "  'OH Stretch': {'checked': 0, 'category': 'exercise'},\n",
       "  '50 Situps': {'checked': 0, 'category': 'exercise'},\n",
       "  '50 Squats': {'checked': 0, 'category': 'exercise'},\n",
       "  'Philosophy': {'checked': 0, 'category': 'general'},\n",
       "  'Exercise': {'checked': 0, 'category': 'exercise'},\n",
       "  'Yoga': {'checked': 0, 'category': 'health'},\n",
       "  'Protein Shake': {'checked': 0, 'category': 'health'},\n",
       "  'Eat Healthy': {'checked': 0, 'category': 'health'},\n",
       "  'Portion Control': {'checked': 0, 'category': 'health'},\n",
       "  'Textbook': {'checked': 0, 'category': 'computer'},\n",
       "  '50 Rows': {'checked': 0, 'category': 'exercise'},\n",
       "  'Clean Teeth': {'checked': 0, 'category': 'health'},\n",
       "  'Book': {'checked': 0, 'category': 'general'}}}"
      ]
     },
     "execution_count": 13,
     "metadata": {},
     "output_type": "execute_result"
    }
   ],
   "source": [
    "c.find_one({'id': 'master_habit_list'})"
   ]
  },
  {
   "cell_type": "code",
   "execution_count": 14,
   "metadata": {},
   "outputs": [
    {
     "data": {
      "text/plain": [
       "{'_id': ObjectId('61a84334e1df3953afc5c169'),\n",
       " 'id': 'current_habits',\n",
       " 'habits': {'Vipassana': {'checked': 0, 'category': 'exercise'},\n",
       "  'Python Hackerrank': {'checked': 0, 'category': 'computer'},\n",
       "  'SQL Hackerrank': {'checked': 0, 'category': 'computer'},\n",
       "  'SQL Vertabelo': {'checked': 0, 'category': 'computer'},\n",
       "  'Linux': {'checked': 0, 'category': 'computer'},\n",
       "  'Interview Question': {'checked': 0, 'category': 'general'},\n",
       "  'Project': {'checked': 0, 'category': 'computer'},\n",
       "  'CS Degree': {'checked': 0, 'category': 'computer'},\n",
       "  '50 Pushups': {'checked': 0, 'category': 'exercise'},\n",
       "  'OH Stretch': {'checked': 0, 'category': 'exercise'},\n",
       "  '50 Situps': {'checked': 0, 'category': 'exercise'},\n",
       "  '50 Squats': {'checked': 0, 'category': 'exercise'},\n",
       "  'Philosophy': {'checked': 0, 'category': 'general'},\n",
       "  'Exercise': {'checked': 0, 'category': 'exercise'},\n",
       "  'Yoga': {'checked': 0, 'category': 'health'},\n",
       "  'Protein Shake': {'checked': 0, 'category': 'health'},\n",
       "  'Eat Healthy': {'checked': 0, 'category': 'health'},\n",
       "  'Portion Control': {'checked': 0, 'category': 'health'},\n",
       "  'Textbook': {'checked': 0, 'category': 'computer'},\n",
       "  'Book': {'checked': 0, 'category': 'general'},\n",
       "  '50 Rows': {'checked': 0, 'category': 'exercise'},\n",
       "  'Clean Teeth': {'checked': 0, 'category': 'health'}}}"
      ]
     },
     "execution_count": 14,
     "metadata": {},
     "output_type": "execute_result"
    }
   ],
   "source": [
    "c.find_one({'id': 'current_habits'})"
   ]
  },
  {
   "cell_type": "code",
   "execution_count": null,
   "metadata": {},
   "outputs": [],
   "source": []
  }
 ],
 "metadata": {
  "interpreter": {
   "hash": "c685c8cf59c6c08380b273a961e325366d2b5db1e16c9166e5284f3e44ecfd51"
  },
  "kernelspec": {
   "display_name": "Python 3.8.12 64-bit ('.venv': venv)",
   "language": "python",
   "name": "python3"
  },
  "language_info": {
   "codemirror_mode": {
    "name": "ipython",
    "version": 3
   },
   "file_extension": ".py",
   "mimetype": "text/x-python",
   "name": "python",
   "nbconvert_exporter": "python",
   "pygments_lexer": "ipython3",
   "version": "3.10.1"
  },
  "orig_nbformat": 4
 },
 "nbformat": 4,
 "nbformat_minor": 2
}
